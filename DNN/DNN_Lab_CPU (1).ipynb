{
 "cells": [
  {
   "cell_type": "markdown",
   "metadata": {},
   "source": [
    "# Deep Neural Networks Laboration\n",
    "\n",
    "Data used in this laboration are from the Kitsune Network Attack Dataset, https://archive.ics.uci.edu/ml/datasets/Kitsune+Network+Attack+Dataset . We will focus on the 'Mirai' part of the dataset. Your task is to make a DNN that can classify if each attack is benign or malicious. The dataset has 116 covariates, but to make it a bit more difficult we will remove the first 24 covariates.\n",
    "\n",
    "You need to answer all questions in this notebook."
   ]
  },
  {
   "cell_type": "code",
   "execution_count": 3,
   "metadata": {},
   "outputs": [
    {
     "data": {
      "text/plain": [
       "'/data/home/test-user/Lab01'"
      ]
     },
     "execution_count": 3,
     "metadata": {},
     "output_type": "execute_result"
    }
   ],
   "source": [
    "import os\n",
    "os.getcwd()"
   ]
  },
  {
   "cell_type": "markdown",
   "metadata": {},
   "source": [
    "# Part 1: Get the data\n",
    "\n",
    "Use `wget` in the terminal of your cloud machine (in the same directory as where you have saved this notebook) to download the data, i.e.\n",
    "\n",
    "wget https://archive.ics.uci.edu/ml/machine-learning-databases/00516/mirai/Mirai_dataset.csv.gz\n",
    "\n",
    "wget https://archive.ics.uci.edu/ml/machine-learning-databases/00516/mirai/Mirai_labels.csv.gz\n",
    "\n",
    "Then unpack the files using `gunzip` in the terminal, i.e.\n",
    "\n",
    "gunzip Mirai_dataset.csv.gz\n",
    "\n",
    "gunzip Mirai_labels.csv.gz"
   ]
  },
  {
   "cell_type": "code",
   "execution_count": 1,
   "metadata": {},
   "outputs": [
    {
     "name": "stderr",
     "output_type": "stream",
     "text": [
      "Using TensorFlow backend.\n"
     ]
    }
   ],
   "source": [
    "import os\n",
    "import warnings\n",
    "\n",
    "# Ignore FutureWarning from numpy\n",
    "warnings.simplefilter(action='ignore', category=FutureWarning)\n",
    "\n",
    "import keras.backend as K\n",
    "import tensorflow as tf\n",
    "\n",
    "os.environ[\"CUDA_DEVICE_ORDER\"]=\"PCI_BUS_ID\";\n",
    " \n",
    "# The GPU id to use, usually either \"0\" or \"1\";\n",
    "os.environ[\"CUDA_VISIBLE_DEVICES\"]=\"0\";\n",
    "\n",
    "# Allow growth of GPU memory, otherwise it will always look like all the memory is being used\n",
    "physical_devices = tf.config.experimental.list_physical_devices('GPU')\n",
    "tf.config.experimental.set_memory_growth(physical_devices[0], True) "
   ]
  },
  {
   "cell_type": "markdown",
   "metadata": {},
   "source": [
    "# Part 3: Hardware\n",
    "\n",
    "In deep learning, the computer hardware is very important. You should always know what kind of hardware you are working on.\n",
    "\n",
    "Question 1: What graphics card is available in the cloud machine? Run 'nvidia-smi' in the terminal. \n",
    "\n",
    "Question 2: Google the name of the graphics card, how many CUDA cores does it have?\n",
    "\n",
    "Question 3: How much memory does the graphics card have?\n",
    "\n",
    "Question 4: What is stored in the GPU memory while training a DNN ?\n",
    "\n",
    "Question 5: What CPU is available in the cloud machine? How many cores does it have? Run 'lscpu' in the terminal.\n",
    "\n",
    "Question 6: How much CPU memory (RAM) is available in the cloud machine? Run 'free -g' in the terminal."
   ]
  },
  {
   "cell_type": "markdown",
   "metadata": {},
   "source": [
    "# Part 4: Load the data\n",
    "\n",
    "Load the dataset from the prepared npy files\n"
   ]
  },
  {
   "cell_type": "code",
   "execution_count": 17,
   "metadata": {},
   "outputs": [],
   "source": [
    "from numpy import genfromtxt\n",
    "import numpy as np\n",
    "X = genfromtxt('Mirai_dataset.csv',delimiter = ',')\n"
   ]
  },
  {
   "cell_type": "code",
   "execution_count": 18,
   "metadata": {},
   "outputs": [],
   "source": [
    "Y = genfromtxt('Mirai_labels.csv')"
   ]
  },
  {
   "cell_type": "code",
   "execution_count": 19,
   "metadata": {},
   "outputs": [],
   "source": [
    "np.save('Mirai_data.npy', X)\n",
    "np.save('Mirai_labels.npy', Y)\n",
    "\n"
   ]
  },
  {
   "cell_type": "code",
   "execution_count": 20,
   "metadata": {},
   "outputs": [
    {
     "name": "stdout",
     "output_type": "stream",
     "text": [
      "The covariates have size (764137, 92).\n",
      "The labels have size (764137,).\n",
      "The Label 0 have length 121621.\n",
      "The Label 1 have length 642516.\n"
     ]
    }
   ],
   "source": [
    "\n",
    "# Load data from numpy arrays, for faster loading\n",
    "X = np.load('Mirai_data.npy')\n",
    "Y = np.load('Mirai_labels.npy')\n",
    "\n",
    "\n",
    "# Remove the first 24 covariates\n",
    "\n",
    "X = np.delete(X,np.arange(24),1)\n",
    "\n",
    "\n",
    "print('The covariates have size {}.'.format(X.shape))\n",
    "print('The labels have size {}.'.format(Y.shape))\n",
    "\n",
    "# Print the number of examples of each class\n",
    "\n",
    "label0Indexes = np.where(Y == 0)\n",
    "print('The Label 0 have length {}.'.format(len(label0Indexes[0])))\n",
    "\n",
    "label1Indexes = np.where(Y == 1)\n",
    "print('The Label 1 have length {}.'.format(len(label1Indexes[0])))"
   ]
  },
  {
   "cell_type": "markdown",
   "metadata": {},
   "source": [
    "# Part 5: How good is a naive classifier?\n",
    "\n",
    "Question 7: Given the distribution of examples, how high classification performance can a naive classifier obtain? The naive classifier will assume that all examples belong to one class. Note: you do not need to make a naive classifier, this is a theoretical question, just to understand how good performance we can obtain by random chance."
   ]
  },
  {
   "cell_type": "code",
   "execution_count": 28,
   "metadata": {},
   "outputs": [
    {
     "name": "stdout",
     "output_type": "stream",
     "text": [
      "Is there any NaN in the data : False\n",
      "Number of NaNs in the labels : 0\n",
      "Number of NaNs in the data : 0\n",
      "Number of NaNs per covariates : [0 0 0 0 0 0 0 0 0 0 0 0 0 0 0 0 0 0 0 0 0 0 0 0 0 0 0 0 0 0 0 0 0 0 0 0 0\n",
      " 0 0 0 0 0 0 0 0 0 0 0 0 0 0 0 0 0 0 0 0 0 0 0 0 0 0 0 0 0 0 0 0 0 0 0 0 0\n",
      " 0 0 0 0 0 0 0 0 0 0 0 0 0 0 0 0 0 0]\n"
     ]
    }
   ],
   "source": [
    "# It is common to have NaNs in the data, lets check for it. Hint: np.isnan()\n",
    "print(\"Is there any NaN in the data : {0}\".format(np.any(np.isnan(X))))\n",
    "\n",
    "\n",
    "\n",
    "# Print the number of NaNs (not a number) in the labels\n",
    "print(\"Number of NaNs in the labels : {0}\".format(np.count_nonzero(np.isnan(Y))))\n",
    "\n",
    "\n",
    "# Print the number of NaNs in the covariates\n",
    "print(\"Number of NaNs in the data : {0}\".format(np.count_nonzero(np.isnan(X))))\n",
    "\n",
    "print(\"Number of NaNs per covariates : {0}\".format(sum(np.isnan(X))))\n"
   ]
  },
  {
   "cell_type": "markdown",
   "metadata": {},
   "source": [
    "# Part 6: Preprocessing\n",
    "\n",
    "Lets do some simple preprocessing"
   ]
  },
  {
   "cell_type": "code",
   "execution_count": 29,
   "metadata": {},
   "outputs": [
    {
     "name": "stdout",
     "output_type": "stream",
     "text": [
      "The mean of each covariates:[-2.61570467e-17  2.91009930e-16  1.75706916e-16  1.58299880e-16\n",
      "  5.57025141e-16  7.98938304e-17  1.11434784e-16  5.60409843e-16\n",
      "  2.42359497e-16 -5.41924166e-17 -2.47715508e-17 -7.32732057e-18\n",
      "  9.74496441e-18 -1.53985316e-17 -4.94538347e-16 -5.78746741e-17\n",
      "  6.27843509e-17 -7.65909569e-16  1.26926302e-17 -2.71520001e-18\n",
      " -1.85972603e-17  4.00213042e-17  1.00343378e-15  1.43570850e-16\n",
      " -7.64868123e-16  9.92163838e-18 -1.95643179e-17  1.50079891e-16\n",
      " -3.67035530e-16 -7.58768221e-16 -1.69607014e-17 -7.58247498e-16\n",
      " -6.26727673e-18 -2.04569864e-17 -1.04739770e-16 -8.08460101e-16\n",
      "  5.89012429e-16  1.20510247e-17 -3.86525459e-16 -2.28746302e-17\n",
      " -7.43890413e-19  1.02656877e-16  5.60409843e-16 -3.04995069e-18\n",
      "  6.76010413e-18 -4.99299245e-16  1.00983124e-17  5.76701043e-17\n",
      "  3.98725261e-17  1.36875836e-17  4.71626522e-17 -3.61605130e-16\n",
      " -1.32040548e-18 -2.93836713e-17 -1.78533699e-18  8.12328331e-17\n",
      " -7.15622577e-17 -2.58427530e-16  7.60702336e-16  9.37673866e-17\n",
      "  3.92402193e-16 -1.57518795e-17 -9.38852903e-19  9.29863016e-20\n",
      "  7.14134797e-18  7.58768221e-17 -3.02763398e-17  2.91753820e-16\n",
      "  7.43890413e-20  8.82352828e-19  1.21347124e-18 -4.25207760e-16\n",
      " -2.09747341e-15 -2.51434960e-17 -7.38831958e-16 -8.21998906e-18\n",
      "  1.47615754e-19 -2.36417672e-18 -1.39851398e-16 -1.21931078e-15\n",
      "  7.06695892e-19  8.95197723e-16  5.80606467e-17  1.62813203e-18\n",
      " -5.49781508e-18  6.84379180e-17  9.09108474e-16 -7.16738413e-17\n",
      " -6.26355728e-16 -1.61238247e-17  8.69421920e-19 -4.76089864e-18]\n",
      "The STD of each covariates: [1. 1. 1. 1. 1. 1. 1. 1. 1. 1. 1. 1. 1. 1. 1. 1. 1. 1. 1. 1. 1. 1. 1. 1.\n",
      " 1. 1. 1. 1. 1. 1. 1. 1. 1. 1. 1. 1. 1. 1. 1. 1. 1. 1. 1. 1. 1. 1. 1. 1.\n",
      " 1. 1. 1. 1. 1. 1. 1. 1. 1. 1. 1. 1. 1. 1. 1. 1. 1. 1. 1. 1. 1. 1. 1. 1.\n",
      " 1. 1. 1. 1. 1. 1. 1. 1. 1. 1. 1. 1. 1. 1. 1. 1. 1. 1. 1. 1.]\n"
     ]
    }
   ],
   "source": [
    "# Convert covariates to floats\n",
    "X.astype(float)\n",
    "# Convert labels to ints\n",
    "\n",
    "Y.astype(int)\n",
    "\n",
    "# Remove mean of each covariate (column)\n",
    "\n",
    "\n",
    "X = X - np.mean(X,axis = 0)\n",
    "\n",
    "# Divide each covariate (column) by its standard deviation\n",
    "X = X / np.std(X,axis = 0)\n",
    "\n",
    "# Check that mean is 0 and standard deviation is 1 for all covariates, by printing mean and std\n",
    "\n",
    "print(\"The mean of each covariates:{}\".format(np.mean(X , axis = 0)))\n",
    "\n",
    "print(\"The STD of each covariates: {}\".format(np.std(X , axis = 0)))"
   ]
  },
  {
   "cell_type": "markdown",
   "metadata": {},
   "source": [
    "# Part 7: Split the dataset\n",
    "\n",
    "Use the first 70% of the dataset for training, leave the other 30% for validation and test, call the variables\n",
    "\n",
    "Xtrain (70%)\n",
    "\n",
    "Xtemp  (30%)\n",
    "\n",
    "Ytrain (70%)\n",
    "\n",
    "Ytemp  (30%)\n"
   ]
  },
  {
   "cell_type": "code",
   "execution_count": 30,
   "metadata": {},
   "outputs": [
    {
     "name": "stdout",
     "output_type": "stream",
     "text": [
      "Xtrain has size (534895, 92).\n",
      "Ytrain has size (534895,).\n",
      "Xtemp has size (229242, 92).\n",
      "Ytemp has size (229242,).\n",
      "The Label 0 have length 121621.\n",
      "The Label 1 have length 413274.\n",
      "The Label 0 have length 0.\n",
      "The Label 1 have length 229242.\n"
     ]
    }
   ],
   "source": [
    "# Your code\n",
    "Part = (int)(X.shape[0]*0.7)\n",
    "\n",
    "Xtrain, Xtemp = X[:Part,:], X[Part:,:]\n",
    "\n",
    "Ytrain, Ytemp = Y[:Part], Y[Part:]\n",
    "\n",
    "\n",
    "print('Xtrain has size {}.'.format(Xtrain.shape))\n",
    "print('Ytrain has size {}.'.format(Ytrain.shape))\n",
    "\n",
    "print('Xtemp has size {}.'.format(Xtemp.shape))\n",
    "print('Ytemp has size {}.'.format(Ytemp.shape))\n",
    "\n",
    "# Print the number of examples of each class, for the training data and the remaining 30%\n",
    "\n",
    "# For training data \n",
    "label0Indexes = np.where(Ytrain == 0)\n",
    "print('The Label 0 have length {}.'.format(len(label0Indexes[0])))\n",
    "\n",
    "label1Indexes = np.where(Ytrain == 1)\n",
    "print('The Label 1 have length {}.'.format(len(label1Indexes[0])))\n",
    "\n",
    "\n",
    "# For remaining 30% of data \n",
    "label0Indexes = np.where(Ytemp == 0)\n",
    "print('The Label 0 have length {}.'.format(len(label0Indexes[0])))\n",
    "\n",
    "label1Indexes = np.where(Ytemp == 1)\n",
    "print('The Label 1 have length {}.'.format(len(label1Indexes[0])))\n"
   ]
  },
  {
   "cell_type": "markdown",
   "metadata": {},
   "source": [
    "# Part 8: Number of examples per class\n",
    "\n",
    "Question 8: Can we use the dataset as it is? Why not?\n",
    "/n\n",
    "\n",
    "<mark style=\"background-color: #eff0f1\">Ans: No, we. cannot use the dataset as it is. We need shuffle the data because shuffleing data serve the purpose of reducing the varince of model and the make sure model remain general.</mark>\n",
    "\n",
    "Lets randomly shuffle the data, to get some examples of each class in training data and in the remaining 30%. Use the function `shuffle` in scikit learn\n",
    "\n",
    "https://scikit-learn.org/stable/modules/generated/sklearn.utils.shuffle.html"
   ]
  },
  {
   "cell_type": "code",
   "execution_count": 31,
   "metadata": {},
   "outputs": [
    {
     "name": "stdout",
     "output_type": "stream",
     "text": [
      "Xtrain has size (534895, 92).\n",
      "Ytrain has size (534895,).\n",
      "Xtemp has size (229242, 92).\n",
      "Ytemp has size (229242,).\n",
      "The Label 0 have length 85265.\n",
      "The Label 1 have length 449630.\n",
      "The Label 0 have length 36356.\n",
      "The Label 1 have length 192886.\n"
     ]
    }
   ],
   "source": [
    "from sklearn.utils import shuffle\n",
    "\n",
    "# Randomly shuffle data, to get both classes in training and testing\n",
    "\n",
    "X,Y = shuffle(X,Y)\n",
    "# Your code\n",
    "\n",
    "Part = (int)(X.shape[0]*0.7)\n",
    "\n",
    "Xtrain, Xtemp = X[:Part,:], X[Part:,:]\n",
    "\n",
    "Ytrain, Ytemp = Y[:Part], Y[Part:]\n",
    "\n",
    "\n",
    "print('Xtrain has size {}.'.format(Xtrain.shape))\n",
    "print('Ytrain has size {}.'.format(Ytrain.shape))\n",
    "\n",
    "print('Xtemp has size {}.'.format(Xtemp.shape))\n",
    "print('Ytemp has size {}.'.format(Ytemp.shape))\n",
    "\n",
    "# Print the number of examples of each class, for the training data and the remaining 30%\n",
    "\n",
    "# For training data \n",
    "label0Indexes = np.where(Ytrain == 0)\n",
    "print('The Label 0 have length {}.'.format(len(label0Indexes[0])))\n",
    "\n",
    "label1Indexes = np.where(Ytrain == 1)\n",
    "print('The Label 1 have length {}.'.format(len(label1Indexes[0])))\n",
    "\n",
    "\n",
    "# For remaining 30% of data \n",
    "label0Indexes = np.where(Ytemp == 0)\n",
    "print('The Label 0 have length {}.'.format(len(label0Indexes[0])))\n",
    "\n",
    "label1Indexes = np.where(Ytemp == 1)\n",
    "print('The Label 1 have length {}.'.format(len(label1Indexes[0])))\n",
    "\n"
   ]
  },
  {
   "cell_type": "markdown",
   "metadata": {},
   "source": [
    "#  Part 9: Split non-training data data into validation and test\n",
    "Split your non-training data (Xtemp, Ytemp) into 50% validation (Xval, Yval) and 50% testing (Xtest, Ytest), we use a function from scikit learn. \n",
    "\n",
    "https://scikit-learn.org/stable/modules/generated/sklearn.model_selection.train_test_split.html\n"
   ]
  },
  {
   "cell_type": "code",
   "execution_count": 32,
   "metadata": {},
   "outputs": [
    {
     "name": "stdout",
     "output_type": "stream",
     "text": [
      "The validation and test data have size (114621, 92), (114621, 92), (114621,) and (114621,)\n"
     ]
    }
   ],
   "source": [
    "from sklearn.model_selection import train_test_split\n",
    "\n",
    "Xval, Xtest, Yval, Ytest = train_test_split(Xtemp, Ytemp, test_size=0.5)\n",
    "\n",
    "\n",
    "print('The validation and test data have size {}, {}, {} and {}'.format(Xval.shape, Xtest.shape, Yval.shape, Ytest.shape))"
   ]
  },
  {
   "cell_type": "markdown",
   "metadata": {},
   "source": [
    "# Part 10: DNN classification\n",
    "\n",
    "Finish this code to create a first version of the classifier using a DNN. Start with a simple network with 2 dense layers (with 20 nodes each), using sigmoid activation functions. The final dense layer should have a single node and a sigmoid activation function. We start with the SGD optimizer.\n",
    "\n",
    "Relevant functions are\n",
    "\n",
    "`model.add()`, adds a layer to the network\n",
    "\n",
    "`Dense()`, a dense network layer\n",
    "\n",
    "`model.compile()`, compile the model, add \" metrics=['accuracy'] \" to print the classification accuracy during the training\n",
    "\n",
    "`model.fit()`, train the model with some training data\n",
    "\n",
    "`model.evaluate()`, apply the trained model to some test data\n",
    "\n",
    "See https://keras.io/layers/core/ for information on how the `Dense()` function works\n",
    "\n",
    "Import a relevant cost / loss function for binary classification from keras.losses (https://keras.io/losses/)\n",
    "\n",
    "See https://keras.io/models/model/ for how to compile, train and evaluate the model"
   ]
  },
  {
   "cell_type": "code",
   "execution_count": 33,
   "metadata": {},
   "outputs": [],
   "source": [
    "from keras.models import Sequential, Model\n",
    "from keras.layers import Input, Dense, BatchNormalization, Dropout\n",
    "from keras.optimizers import SGD, Adam\n",
    "from keras.losses import binary_crossentropy\n",
    "\n",
    "# Set seed from random number generator, for better comparisons\n",
    "from numpy.random import seed\n",
    "seed(123)\n",
    "\n",
    "def build_DNN(input_shape, n_layers, n_nodes, act_fun='sigmoid', optimizer='sgd', learning_rate=0.01, \n",
    "              use_bn=False, use_dropout=False, use_custom_dropout=False):\n",
    "    \n",
    "    # Setup optimizer, depending on input parameter string\n",
    "    if optimizer == 'sgd':\n",
    "        optim = SGD(lr = learning_rate)\n",
    "    elif optimizer == \"Adam\":\n",
    "        optim  = Adam(learning_rate=learning_rate)\n",
    "    # Setup a sequential model\n",
    "    model = Sequential()\n",
    "\n",
    "    # Add layers to the model, using the input parameters of the build_DNN function\n",
    "    \n",
    "    # Add first layer, requires input shape\n",
    "    model.add(Dense(20,input_shape = input_shape,activation = act_fun ))\n",
    "    if use_bn:\n",
    "        model.add(BatchNormalization())\n",
    "    if use_dropout:\n",
    "        model.add(Dropout(rate = 0.5))\n",
    "    if use_custom_dropout:\n",
    "        model.add(myDropout(rate = 0.5))\n",
    "    # Add remaining layers, do not require input shape\n",
    "    for i in range(n_layers-1):\n",
    "        model.add(Dense(20,activation = act_fun))\n",
    "        if use_bn:\n",
    "            model.add(BatchNormalization())\n",
    "        if use_dropout:\n",
    "            model.add(Dropout(rate = 0.5))\n",
    "        if use_custom_dropout:\n",
    "            model.add(myDropout(rate = 0.5))\n",
    "           \n",
    "    \n",
    "    \n",
    "    # Final layer\n",
    "    model.add(Dense(1,activation = act_fun))\n",
    "\n",
    "    # Compile model\n",
    "    model.compile(optim,loss=binary_crossentropy,metrics=['accuracy'])\n",
    "    \n",
    "    return model"
   ]
  },
  {
   "cell_type": "code",
   "execution_count": 34,
   "metadata": {},
   "outputs": [],
   "source": [
    "# Lets define a help function for plotting the training results\n",
    "\n",
    "# IMPORTANT NOTE\n",
    "# The history unfortunately behaves a bit randomly for every user\n",
    "# If the plots for accuracy and loss look mixed, change the order of\n",
    "# val_loss, val_acc, loss, acc\n",
    "# until the plots look as they \"should\"\n",
    "\n",
    "import matplotlib.pyplot as plt\n",
    "def plot_results(history):\n",
    "    val_loss, val_acc, loss, acc = history.history.values()\n",
    "\n",
    "    plt.figure(figsize=(10,4))\n",
    "    plt.xlabel('Epochs')\n",
    "    plt.ylabel('Loss')\n",
    "    plt.plot(loss)\n",
    "    plt.plot(val_loss)\n",
    "    plt.legend(['Training','Validation'])\n",
    "\n",
    "    plt.figure(figsize=(10,4))\n",
    "    plt.xlabel('Epochs')\n",
    "    plt.ylabel('Accuracy')\n",
    "    plt.plot(acc)\n",
    "    plt.plot(val_acc)\n",
    "    plt.legend(['Training','Validation'])\n",
    "\n",
    "    plt.show()"
   ]
  },
  {
   "cell_type": "markdown",
   "metadata": {},
   "source": [
    "# Part 11: Train the DNN\n",
    "\n",
    "Time to train the DNN, we start simple with 2 layers with 2 nodes each, learning rate 0.1."
   ]
  },
  {
   "cell_type": "markdown",
   "metadata": {},
   "source": [
    "### 2 layers, 20 nodes"
   ]
  },
  {
   "cell_type": "code",
   "execution_count": 35,
   "metadata": {
    "scrolled": true
   },
   "outputs": [
    {
     "name": "stdout",
     "output_type": "stream",
     "text": [
      "Train on 534895 samples, validate on 114621 samples\n",
      "Epoch 1/20\n",
      "534895/534895 [==============================] - 18s 33us/step - loss: 0.4481 - accuracy: 0.8274 - val_loss: 0.4024 - val_accuracy: 0.8409\n",
      "Epoch 2/20\n",
      "534895/534895 [==============================] - 1s 1us/step - loss: 0.3803 - accuracy: 0.8406 - val_loss: 0.3545 - val_accuracy: 0.8409\n",
      "Epoch 3/20\n",
      "534895/534895 [==============================] - 1s 1us/step - loss: 0.3290 - accuracy: 0.8406 - val_loss: 0.3008 - val_accuracy: 0.8409\n",
      "Epoch 4/20\n",
      "534895/534895 [==============================] - 1s 1us/step - loss: 0.2772 - accuracy: 0.8406 - val_loss: 0.2538 - val_accuracy: 0.8409\n",
      "Epoch 5/20\n",
      "534895/534895 [==============================] - 1s 1us/step - loss: 0.2381 - accuracy: 0.8505 - val_loss: 0.2235 - val_accuracy: 0.8594\n",
      "Epoch 6/20\n",
      "534895/534895 [==============================] - 1s 1us/step - loss: 0.2149 - accuracy: 0.8733 - val_loss: 0.2066 - val_accuracy: 0.8970\n",
      "Epoch 7/20\n",
      "534895/534895 [==============================] - 1s 1us/step - loss: 0.2021 - accuracy: 0.9025 - val_loss: 0.1971 - val_accuracy: 0.9054\n",
      "Epoch 8/20\n",
      "534895/534895 [==============================] - 1s 1us/step - loss: 0.1946 - accuracy: 0.9048 - val_loss: 0.1913 - val_accuracy: 0.9059\n",
      "Epoch 9/20\n",
      "534895/534895 [==============================] - 1s 1us/step - loss: 0.1898 - accuracy: 0.9053 - val_loss: 0.1874 - val_accuracy: 0.9060\n",
      "Epoch 10/20\n",
      "534895/534895 [==============================] - 1s 1us/step - loss: 0.1865 - accuracy: 0.9054 - val_loss: 0.1845 - val_accuracy: 0.9062\n",
      "Epoch 11/20\n",
      "534895/534895 [==============================] - 1s 1us/step - loss: 0.1839 - accuracy: 0.9056 - val_loss: 0.1822 - val_accuracy: 0.9063\n",
      "Epoch 12/20\n",
      "534895/534895 [==============================] - 1s 1us/step - loss: 0.1819 - accuracy: 0.9059 - val_loss: 0.1803 - val_accuracy: 0.9065\n",
      "Epoch 13/20\n",
      "534895/534895 [==============================] - 1s 1us/step - loss: 0.1801 - accuracy: 0.9062 - val_loss: 0.1788 - val_accuracy: 0.9071\n",
      "Epoch 14/20\n",
      "534895/534895 [==============================] - 1s 1us/step - loss: 0.1787 - accuracy: 0.9067 - val_loss: 0.1774 - val_accuracy: 0.9075\n",
      "Epoch 15/20\n",
      "534895/534895 [==============================] - 1s 1us/step - loss: 0.1773 - accuracy: 0.9072 - val_loss: 0.1762 - val_accuracy: 0.9079\n",
      "Epoch 16/20\n",
      "534895/534895 [==============================] - 1s 1us/step - loss: 0.1761 - accuracy: 0.9076 - val_loss: 0.1750 - val_accuracy: 0.9081\n",
      "Epoch 17/20\n",
      "534895/534895 [==============================] - 1s 1us/step - loss: 0.1750 - accuracy: 0.9079 - val_loss: 0.1740 - val_accuracy: 0.9084\n",
      "Epoch 18/20\n",
      "534895/534895 [==============================] - 1s 1us/step - loss: 0.1740 - accuracy: 0.9081 - val_loss: 0.1731 - val_accuracy: 0.9086\n",
      "Epoch 19/20\n",
      "534895/534895 [==============================] - 1s 1us/step - loss: 0.1731 - accuracy: 0.9083 - val_loss: 0.1722 - val_accuracy: 0.9088\n",
      "Epoch 20/20\n",
      "534895/534895 [==============================] - 1s 1us/step - loss: 0.1723 - accuracy: 0.9085 - val_loss: 0.1714 - val_accuracy: 0.9090\n"
     ]
    }
   ],
   "source": [
    "# Setup some training parameters\n",
    "batch_size = 10000\n",
    "epochs = 20\n",
    "\n",
    "input_shape = (X.shape[1],)\n",
    "n_layers = 2\n",
    "n_nodes = 20\n",
    "\n",
    "# Build the model\n",
    "model1 = build_DNN(input_shape, n_layers, n_nodes,learning_rate = 0.1)\n",
    "\n",
    "# Train the model, provide training data and validation data\n",
    "history1 = model1.fit(Xtrain,Ytrain,epochs = epochs,validation_data = (Xval,Yval),batch_size=batch_size)"
   ]
  },
  {
   "cell_type": "code",
   "execution_count": 36,
   "metadata": {},
   "outputs": [
    {
     "name": "stdout",
     "output_type": "stream",
     "text": [
      "114621/114621 [==============================] - 4s 34us/step\n",
      "Test loss: 0.1709\n",
      "Test accuracy: 0.9092\n"
     ]
    }
   ],
   "source": [
    "# Evaluate the model on the test data\n",
    "score = model1.evaluate(Xtest,Ytest)\n",
    "\n",
    "print('Test loss: %.4f' % score[0])\n",
    "print('Test accuracy: %.4f' % score[1])"
   ]
  },
  {
   "cell_type": "code",
   "execution_count": 37,
   "metadata": {},
   "outputs": [
    {
     "data": {
      "image/png": "[encoded data removed]",
      "text/plain": [
       "<Figure size 720x288 with 1 Axes>"
      ]
     },
     "metadata": {
      "needs_background": "light"
     },
     "output_type": "display_data"
    },
    {
     "data": {
      "image/png": "[encoded data removed]",
      "text/plain": [
       "<Figure size 720x288 with 1 Axes>"
      ]
     },
     "metadata": {
      "needs_background": "light"
     },
     "output_type": "display_data"
    }
   ],
   "source": [
    "# Plot the history from the training run\n",
    "plot_results(history1)"
   ]
  },
  {
   "cell_type": "markdown",
   "metadata": {},
   "source": [
    "# Part 12: More questions\n",
    "\n",
    "Question 9: What happens if you add several Dense layers without specifying the activation function?\n",
    "\n",
    "<mark style=\"background-color: #eff0f1\">Ans: All the Dense layers have linear activation fuction i.e( The nerual network will work like a linear\n",
    "regression</mark>\n",
    "\n",
    "Question 10: How are the weights in each dense layer initialized as default? How are the bias weights initialized?\n",
    "\n",
    "<mark style=\"background-color: #eff0f1\">Ans: All the bias and inital weights are initialized randomly</mark>"
   ]
  },
  {
   "cell_type": "markdown",
   "metadata": {},
   "source": [
    "# Part 13: Balancing the classes\n",
    "\n",
    "This dataset is rather unbalanced, we need to define class weights so that the training pays more attention to the class with fewer samples. We use a function in scikit learn\n",
    "\n",
    "https://scikit-learn.org/stable/modules/generated/sklearn.utils.class_weight.compute_class_weight.html"
   ]
  },
  {
   "cell_type": "code",
   "execution_count": 40,
   "metadata": {},
   "outputs": [
    {
     "data": {
      "text/plain": [
       "array([3.14146817, 0.59464434])"
      ]
     },
     "execution_count": 40,
     "metadata": {},
     "output_type": "execute_result"
    }
   ],
   "source": [
    "from sklearn.utils import class_weight\n",
    "\n",
    "# Calculate class weights\n",
    "cw = class_weight.compute_class_weight(\"balanced\", np.unique(Ytest), Y)\n",
    "\n",
    "# Print the class weights\n",
    "cw"
   ]
  },
  {
   "cell_type": "markdown",
   "metadata": {},
   "source": [
    "### 2 layers, 20 nodes, class weights"
   ]
  },
  {
   "cell_type": "code",
   "execution_count": 41,
   "metadata": {
    "scrolled": true
   },
   "outputs": [
    {
     "name": "stdout",
     "output_type": "stream",
     "text": [
      "Train on 534895 samples, validate on 114621 samples\n",
      "Epoch 1/20\n",
      "534895/534895 [==============================] - 1s 1us/step - loss: 0.4341 - accuracy: 0.8406 - val_loss: 0.4192 - val_accuracy: 0.8409\n",
      "Epoch 2/20\n",
      "534895/534895 [==============================] - 1s 1us/step - loss: 0.4073 - accuracy: 0.8406 - val_loss: 0.3922 - val_accuracy: 0.8409\n",
      "Epoch 3/20\n",
      "534895/534895 [==============================] - 1s 1us/step - loss: 0.3750 - accuracy: 0.8406 - val_loss: 0.3538 - val_accuracy: 0.8409\n",
      "Epoch 4/20\n",
      "534895/534895 [==============================] - 1s 1us/step - loss: 0.3310 - accuracy: 0.8406 - val_loss: 0.3050 - val_accuracy: 0.8409\n",
      "Epoch 5/20\n",
      "534895/534895 [==============================] - 1s 1us/step - loss: 0.2821 - accuracy: 0.8406 - val_loss: 0.2589 - val_accuracy: 0.8409\n",
      "Epoch 6/20\n",
      "534895/534895 [==============================] - 1s 1us/step - loss: 0.2427 - accuracy: 0.8480 - val_loss: 0.2276 - val_accuracy: 0.8600\n",
      "Epoch 7/20\n",
      "534895/534895 [==============================] - 1s 1us/step - loss: 0.2185 - accuracy: 0.8739 - val_loss: 0.2099 - val_accuracy: 0.8851\n",
      "Epoch 8/20\n",
      "534895/534895 [==============================] - 1s 1us/step - loss: 0.2051 - accuracy: 0.8922 - val_loss: 0.2000 - val_accuracy: 0.9007\n",
      "Epoch 9/20\n",
      "534895/534895 [==============================] - 1s 1us/step - loss: 0.1973 - accuracy: 0.9009 - val_loss: 0.1940 - val_accuracy: 0.9023\n",
      "Epoch 10/20\n",
      "534895/534895 [==============================] - 1s 1us/step - loss: 0.1923 - accuracy: 0.9014 - val_loss: 0.1899 - val_accuracy: 0.9024\n",
      "Epoch 11/20\n",
      "534895/534895 [==============================] - 1s 1us/step - loss: 0.1888 - accuracy: 0.9018 - val_loss: 0.1868 - val_accuracy: 0.9030\n",
      "Epoch 12/20\n",
      "534895/534895 [==============================] - 1s 1us/step - loss: 0.1861 - accuracy: 0.9024 - val_loss: 0.1844 - val_accuracy: 0.9036\n",
      "Epoch 13/20\n",
      "534895/534895 [==============================] - 1s 1us/step - loss: 0.1839 - accuracy: 0.9032 - val_loss: 0.1823 - val_accuracy: 0.9042\n",
      "Epoch 14/20\n",
      "534895/534895 [==============================] - 1s 1us/step - loss: 0.1820 - accuracy: 0.9039 - val_loss: 0.1806 - val_accuracy: 0.9051\n",
      "Epoch 15/20\n",
      "534895/534895 [==============================] - 1s 1us/step - loss: 0.1804 - accuracy: 0.9048 - val_loss: 0.1790 - val_accuracy: 0.9058\n",
      "Epoch 16/20\n",
      "534895/534895 [==============================] - 1s 1us/step - loss: 0.1789 - accuracy: 0.9058 - val_loss: 0.1776 - val_accuracy: 0.9067\n",
      "Epoch 17/20\n",
      "534895/534895 [==============================] - 1s 1us/step - loss: 0.1776 - accuracy: 0.9068 - val_loss: 0.1764 - val_accuracy: 0.9075\n",
      "Epoch 18/20\n",
      "534895/534895 [==============================] - 1s 1us/step - loss: 0.1764 - accuracy: 0.9075 - val_loss: 0.1753 - val_accuracy: 0.9084\n",
      "Epoch 19/20\n",
      "534895/534895 [==============================] - 1s 1us/step - loss: 0.1753 - accuracy: 0.9081 - val_loss: 0.1743 - val_accuracy: 0.9089\n",
      "Epoch 20/20\n",
      "534895/534895 [==============================] - 1s 1us/step - loss: 0.1744 - accuracy: 0.9085 - val_loss: 0.1734 - val_accuracy: 0.9093\n"
     ]
    }
   ],
   "source": [
    "# Setup some training parameters\n",
    "batch_size = 10000\n",
    "epochs = 20\n",
    "\n",
    "input_shape = (X.shape[1],)\n",
    "n_layers = 2\n",
    "n_nodes = 20\n",
    "\n",
    "# Build the model\n",
    "model2 = build_DNN(input_shape, n_layers, n_nodes,learning_rate = 0.1)\n",
    "\n",
    "# Train the model, provide training data and validation data\n",
    "history2 = model2.fit(Xtrain,Ytrain,epochs = epochs,validation_data = (Xval,Yval),batch_size=batch_size,class_weight = cw)"
   ]
  },
  {
   "cell_type": "code",
   "execution_count": 42,
   "metadata": {},
   "outputs": [
    {
     "name": "stdout",
     "output_type": "stream",
     "text": [
      "114621/114621 [==============================] - 4s 34us/step\n",
      "Test loss: 0.1730\n",
      "Test accuracy: 0.9095\n"
     ]
    }
   ],
   "source": [
    "# Evaluate model on test data\n",
    "score = model2.evaluate(Xtest,Ytest)\n",
    "\n",
    "print('Test loss: %.4f' % score[0])\n",
    "print('Test accuracy: %.4f' % score[1])"
   ]
  },
  {
   "cell_type": "code",
   "execution_count": 43,
   "metadata": {},
   "outputs": [
    {
     "data": {
      "image/png": "[encoded data removed]",
      "text/plain": [
       "<Figure size 720x288 with 1 Axes>"
      ]
     },
     "metadata": {
      "needs_background": "light"
     },
     "output_type": "display_data"
    },
    {
     "data": {
      "image/png": "[encoded data removed]",
      "text/plain": [
       "<Figure size 720x288 with 1 Axes>"
      ]
     },
     "metadata": {
      "needs_background": "light"
     },
     "output_type": "display_data"
    }
   ],
   "source": [
    "plot_results(history2)"
   ]
  },
  {
   "cell_type": "markdown",
   "metadata": {},
   "source": [
    "# Part 14: More questions\n",
    "\n",
    "Question 11: Why do we have to use a batch size? Why can't we simply use all data at once? This is more relevant for even larger datasets.\n",
    "\n",
    "Question 12: How busy is the GPU for a batch size of 100? How much GPU memory is used? Hint: run 'nvidia-smi' on the cloud computer a few times during training.\n",
    "\n",
    "Question 13: What is the processing time for one training epoch when the batch size is 100? What is the processing time for one epoch when the batch size is 1,000? What is the processing time for one epoch when the batch size is 10,000? Explain the results. \n",
    "\n",
    "Question 14: How many times are the weights in the DNN updated in each training epoch if the batch size is 100? How many times are the weights in the DNN updated in each training epoch if the batch size is 1,000? How many times are the weights in the DNN updated in each training epoch if the batch size is 10,000?  \n",
    "\n",
    "Question 15: What limits how large the batch size can be?\n",
    "\n",
    "Question 16: Generally speaking, how is the learning rate related to the batch size? If the batch size is decreased, how should the learning rate be changed?\n",
    "\n",
    "Lets use a batch size of 10,000 from now on, and a learning rate of 0.1."
   ]
  },
  {
   "cell_type": "markdown",
   "metadata": {},
   "source": [
    "# Part 15: Increasing the complexity\n",
    "\n",
    "Lets try some different configurations of number of layers and number of nodes per layer.\n",
    "\n",
    "Question 17: How many trainable parameters does the network with 4 dense layers with 50 nodes each have, compared to the initial network with 2 layers and 20 nodes per layer? Hint: use model.summary()"
   ]
  },
  {
   "cell_type": "markdown",
   "metadata": {},
   "source": [
    "### 4 layers, 20 nodes, class weights"
   ]
  },
  {
   "cell_type": "code",
   "execution_count": 44,
   "metadata": {
    "scrolled": true
   },
   "outputs": [
    {
     "name": "stdout",
     "output_type": "stream",
     "text": [
      "Train on 534895 samples, validate on 114621 samples\n",
      "Epoch 1/20\n",
      "534895/534895 [==============================] - 1s 2us/step - loss: 0.4650 - accuracy: 0.8152 - val_loss: 0.4382 - val_accuracy: 0.8409\n",
      "Epoch 2/20\n",
      "534895/534895 [==============================] - 1s 1us/step - loss: 0.4385 - accuracy: 0.8406 - val_loss: 0.4380 - val_accuracy: 0.8409\n",
      "Epoch 3/20\n",
      "534895/534895 [==============================] - 1s 1us/step - loss: 0.4384 - accuracy: 0.8406 - val_loss: 0.4378 - val_accuracy: 0.8409\n",
      "Epoch 4/20\n",
      "534895/534895 [==============================] - 1s 1us/step - loss: 0.4382 - accuracy: 0.8406 - val_loss: 0.4376 - val_accuracy: 0.8409\n",
      "Epoch 5/20\n",
      "534895/534895 [==============================] - 1s 1us/step - loss: 0.4380 - accuracy: 0.8406 - val_loss: 0.4375 - val_accuracy: 0.8409\n",
      "Epoch 6/20\n",
      "534895/534895 [==============================] - 1s 1us/step - loss: 0.4378 - accuracy: 0.8406 - val_loss: 0.4373 - val_accuracy: 0.8409\n",
      "Epoch 7/20\n",
      "534895/534895 [==============================] - 1s 1us/step - loss: 0.4376 - accuracy: 0.8406 - val_loss: 0.4370 - val_accuracy: 0.8409\n",
      "Epoch 8/20\n",
      "534895/534895 [==============================] - 1s 1us/step - loss: 0.4374 - accuracy: 0.8406 - val_loss: 0.4368 - val_accuracy: 0.8409\n",
      "Epoch 9/20\n",
      "534895/534895 [==============================] - 1s 1us/step - loss: 0.4371 - accuracy: 0.8406 - val_loss: 0.4365 - val_accuracy: 0.8409\n",
      "Epoch 10/20\n",
      "534895/534895 [==============================] - 1s 1us/step - loss: 0.4368 - accuracy: 0.8406 - val_loss: 0.4362 - val_accuracy: 0.8409\n",
      "Epoch 11/20\n",
      "534895/534895 [==============================] - 1s 1us/step - loss: 0.4365 - accuracy: 0.8406 - val_loss: 0.4359 - val_accuracy: 0.8409\n",
      "Epoch 12/20\n",
      "534895/534895 [==============================] - 1s 1us/step - loss: 0.4362 - accuracy: 0.8406 - val_loss: 0.4355 - val_accuracy: 0.8409\n",
      "Epoch 13/20\n",
      "534895/534895 [==============================] - 1s 1us/step - loss: 0.4358 - accuracy: 0.8406 - val_loss: 0.4351 - val_accuracy: 0.8409\n",
      "Epoch 14/20\n",
      "534895/534895 [==============================] - 1s 1us/step - loss: 0.4353 - accuracy: 0.8406 - val_loss: 0.4346 - val_accuracy: 0.8409\n",
      "Epoch 15/20\n",
      "534895/534895 [==============================] - 1s 1us/step - loss: 0.4347 - accuracy: 0.8406 - val_loss: 0.4340 - val_accuracy: 0.8409\n",
      "Epoch 16/20\n",
      "534895/534895 [==============================] - 1s 1us/step - loss: 0.4341 - accuracy: 0.8406 - val_loss: 0.4333 - val_accuracy: 0.8409\n",
      "Epoch 17/20\n",
      "534895/534895 [==============================] - 1s 1us/step - loss: 0.4333 - accuracy: 0.8406 - val_loss: 0.4324 - val_accuracy: 0.8409\n",
      "Epoch 18/20\n",
      "534895/534895 [==============================] - 1s 1us/step - loss: 0.4324 - accuracy: 0.8406 - val_loss: 0.4314 - val_accuracy: 0.8409\n",
      "Epoch 19/20\n",
      "534895/534895 [==============================] - 1s 1us/step - loss: 0.4312 - accuracy: 0.8406 - val_loss: 0.4301 - val_accuracy: 0.8409\n",
      "Epoch 20/20\n",
      "534895/534895 [==============================] - 1s 1us/step - loss: 0.4298 - accuracy: 0.8406 - val_loss: 0.4286 - val_accuracy: 0.8409\n"
     ]
    }
   ],
   "source": [
    "# Setup some training parameters\n",
    "batch_size = 10000\n",
    "epochs = 20\n",
    "\n",
    "input_shape = (X.shape[1],)\n",
    "n_layers = 4\n",
    "n_nodes = 20\n",
    "\n",
    "# Build the model\n",
    "model3 = build_DNN(input_shape, n_layers, n_nodes,learning_rate = 0.1)\n",
    "\n",
    "# Train the model, provide training data and validation data\n",
    "history3 = model3.fit(Xtrain,Ytrain,epochs = epochs,validation_data = (Xval,Yval),batch_size=batch_size,class_weight = cw)"
   ]
  },
  {
   "cell_type": "code",
   "execution_count": 45,
   "metadata": {},
   "outputs": [
    {
     "name": "stdout",
     "output_type": "stream",
     "text": [
      "114621/114621 [==============================] - 4s 36us/step\n",
      "Test loss: 0.4268\n",
      "Test accuracy: 0.8420\n"
     ]
    }
   ],
   "source": [
    "# Evaluate model on test data\n",
    "score = model3.evaluate(Xtest,Ytest)\n",
    "\n",
    "print('Test loss: %.4f' % score[0])\n",
    "print('Test accuracy: %.4f' % score[1])"
   ]
  },
  {
   "cell_type": "code",
   "execution_count": 46,
   "metadata": {},
   "outputs": [
    {
     "data": {
      "image/png": "[encoded data removed]",
      "text/plain": [
       "<Figure size 720x288 with 1 Axes>"
      ]
     },
     "metadata": {
      "needs_background": "light"
     },
     "output_type": "display_data"
    },
    {
     "data": {
      "image/png": "[encoded data removed]",
      "text/plain": [
       "<Figure size 720x288 with 1 Axes>"
      ]
     },
     "metadata": {
      "needs_background": "light"
     },
     "output_type": "display_data"
    }
   ],
   "source": [
    "plot_results(history3)"
   ]
  },
  {
   "cell_type": "markdown",
   "metadata": {},
   "source": [
    "### 2 layers, 50 nodes, class weights"
   ]
  },
  {
   "cell_type": "code",
   "execution_count": 47,
   "metadata": {
    "scrolled": true
   },
   "outputs": [
    {
     "name": "stdout",
     "output_type": "stream",
     "text": [
      "Train on 534895 samples, validate on 114621 samples\n",
      "Epoch 1/20\n",
      "534895/534895 [==============================] - 1s 1us/step - loss: 0.4209 - accuracy: 0.8406 - val_loss: 0.3979 - val_accuracy: 0.8409\n",
      "Epoch 2/20\n",
      "534895/534895 [==============================] - 1s 1us/step - loss: 0.3735 - accuracy: 0.8406 - val_loss: 0.3445 - val_accuracy: 0.8409\n",
      "Epoch 3/20\n",
      "534895/534895 [==============================] - 1s 1us/step - loss: 0.3160 - accuracy: 0.8406 - val_loss: 0.2860 - val_accuracy: 0.8409\n",
      "Epoch 4/20\n",
      "534895/534895 [==============================] - 1s 1us/step - loss: 0.2636 - accuracy: 0.8436 - val_loss: 0.2426 - val_accuracy: 0.8529\n",
      "Epoch 5/20\n",
      "534895/534895 [==============================] - 1s 1us/step - loss: 0.2297 - accuracy: 0.8617 - val_loss: 0.2179 - val_accuracy: 0.8771\n",
      "Epoch 6/20\n",
      "534895/534895 [==============================] - 1s 1us/step - loss: 0.2112 - accuracy: 0.8908 - val_loss: 0.2046 - val_accuracy: 0.8991\n",
      "Epoch 7/20\n",
      "534895/534895 [==============================] - 1s 1us/step - loss: 0.2009 - accuracy: 0.9014 - val_loss: 0.1968 - val_accuracy: 0.9049\n",
      "Epoch 8/20\n",
      "534895/534895 [==============================] - 1s 1us/step - loss: 0.1947 - accuracy: 0.9050 - val_loss: 0.1917 - val_accuracy: 0.9058\n",
      "Epoch 9/20\n",
      "534895/534895 [==============================] - 1s 1us/step - loss: 0.1903 - accuracy: 0.9055 - val_loss: 0.1880 - val_accuracy: 0.9062\n",
      "Epoch 10/20\n",
      "534895/534895 [==============================] - 1s 1us/step - loss: 0.1871 - accuracy: 0.9059 - val_loss: 0.1851 - val_accuracy: 0.9067\n",
      "Epoch 11/20\n",
      "534895/534895 [==============================] - 1s 1us/step - loss: 0.1846 - accuracy: 0.9063 - val_loss: 0.1828 - val_accuracy: 0.9072\n",
      "Epoch 12/20\n",
      "534895/534895 [==============================] - 1s 1us/step - loss: 0.1824 - accuracy: 0.9067 - val_loss: 0.1809 - val_accuracy: 0.9074\n",
      "Epoch 13/20\n",
      "534895/534895 [==============================] - 1s 1us/step - loss: 0.1806 - accuracy: 0.9069 - val_loss: 0.1792 - val_accuracy: 0.9076\n",
      "Epoch 14/20\n",
      "534895/534895 [==============================] - 1s 1us/step - loss: 0.1791 - accuracy: 0.9071 - val_loss: 0.1778 - val_accuracy: 0.9078\n",
      "Epoch 15/20\n",
      "534895/534895 [==============================] - 1s 1us/step - loss: 0.1778 - accuracy: 0.9073 - val_loss: 0.1765 - val_accuracy: 0.9079\n",
      "Epoch 16/20\n",
      "534895/534895 [==============================] - 1s 1us/step - loss: 0.1766 - accuracy: 0.9075 - val_loss: 0.1754 - val_accuracy: 0.9081\n",
      "Epoch 17/20\n",
      "534895/534895 [==============================] - 1s 1us/step - loss: 0.1755 - accuracy: 0.9077 - val_loss: 0.1745 - val_accuracy: 0.9082\n",
      "Epoch 18/20\n",
      "534895/534895 [==============================] - 1s 1us/step - loss: 0.1746 - accuracy: 0.9079 - val_loss: 0.1736 - val_accuracy: 0.9085\n",
      "Epoch 19/20\n",
      "534895/534895 [==============================] - 1s 1us/step - loss: 0.1738 - accuracy: 0.9082 - val_loss: 0.1728 - val_accuracy: 0.9087\n",
      "Epoch 20/20\n",
      "534895/534895 [==============================] - 1s 1us/step - loss: 0.1730 - accuracy: 0.9084 - val_loss: 0.1721 - val_accuracy: 0.9090\n"
     ]
    }
   ],
   "source": [
    "# Setup some training parameters\n",
    "batch_size = 10000\n",
    "epochs = 20\n",
    "\n",
    "input_shape = (X.shape[1],)\n",
    "n_layers = 2\n",
    "n_nodes = 50\n",
    "\n",
    "# Build the model\n",
    "model4 = build_DNN(input_shape, n_layers, n_nodes,learning_rate = 0.1)\n",
    "\n",
    "# Train the model, provide training data and validation data\n",
    "history4 = model4.fit(Xtrain,Ytrain,epochs = epochs,validation_data = (Xval,Yval),batch_size=batch_size,class_weight = cw)"
   ]
  },
  {
   "cell_type": "code",
   "execution_count": 48,
   "metadata": {},
   "outputs": [
    {
     "name": "stdout",
     "output_type": "stream",
     "text": [
      "114621/114621 [==============================] - 4s 33us/step\n",
      "Test loss: 0.1717\n",
      "Test accuracy: 0.9093\n"
     ]
    }
   ],
   "source": [
    "# Evaluate model on test data\n",
    "score = model4.evaluate(Xtest,Ytest)\n",
    "\n",
    "print('Test loss: %.4f' % score[0])\n",
    "print('Test accuracy: %.4f' % score[1])"
   ]
  },
  {
   "cell_type": "code",
   "execution_count": 49,
   "metadata": {},
   "outputs": [
    {
     "data": {
      "image/png": "[encoded data removed]",
      "text/plain": [
       "<Figure size 720x288 with 1 Axes>"
      ]
     },
     "metadata": {
      "needs_background": "light"
     },
     "output_type": "display_data"
    },
    {
     "data": {
      "image/png": "[encoded data removed]",
      "text/plain": [
       "<Figure size 720x288 with 1 Axes>"
      ]
     },
     "metadata": {
      "needs_background": "light"
     },
     "output_type": "display_data"
    }
   ],
   "source": [
    "plot_results(history4)"
   ]
  },
  {
   "cell_type": "markdown",
   "metadata": {},
   "source": [
    "### 4 layers, 50 nodes, class weights"
   ]
  },
  {
   "cell_type": "code",
   "execution_count": 50,
   "metadata": {
    "scrolled": true
   },
   "outputs": [
    {
     "name": "stdout",
     "output_type": "stream",
     "text": [
      "Train on 534895 samples, validate on 114621 samples\n",
      "Epoch 1/20\n",
      "534895/534895 [==============================] - 1s 1us/step - loss: 0.4388 - accuracy: 0.8406 - val_loss: 0.4380 - val_accuracy: 0.8409\n",
      "Epoch 2/20\n",
      "534895/534895 [==============================] - 1s 1us/step - loss: 0.4384 - accuracy: 0.8406 - val_loss: 0.4378 - val_accuracy: 0.8409\n",
      "Epoch 3/20\n",
      "534895/534895 [==============================] - 1s 1us/step - loss: 0.4382 - accuracy: 0.8406 - val_loss: 0.4376 - val_accuracy: 0.8409\n",
      "Epoch 4/20\n",
      "534895/534895 [==============================] - 1s 1us/step - loss: 0.4380 - accuracy: 0.8406 - val_loss: 0.4374 - val_accuracy: 0.8409\n",
      "Epoch 5/20\n",
      "534895/534895 [==============================] - 1s 1us/step - loss: 0.4378 - accuracy: 0.8406 - val_loss: 0.4372 - val_accuracy: 0.8409\n",
      "Epoch 6/20\n",
      "534895/534895 [==============================] - 1s 1us/step - loss: 0.4375 - accuracy: 0.8406 - val_loss: 0.4369 - val_accuracy: 0.8409\n",
      "Epoch 7/20\n",
      "534895/534895 [==============================] - 1s 1us/step - loss: 0.4373 - accuracy: 0.8406 - val_loss: 0.4367 - val_accuracy: 0.8409\n",
      "Epoch 8/20\n",
      "534895/534895 [==============================] - 1s 1us/step - loss: 0.4370 - accuracy: 0.8406 - val_loss: 0.4364 - val_accuracy: 0.8409\n",
      "Epoch 9/20\n",
      "534895/534895 [==============================] - 1s 1us/step - loss: 0.4366 - accuracy: 0.8406 - val_loss: 0.4360 - val_accuracy: 0.8409\n",
      "Epoch 10/20\n",
      "534895/534895 [==============================] - 1s 1us/step - loss: 0.4362 - accuracy: 0.8406 - val_loss: 0.4356 - val_accuracy: 0.8409\n",
      "Epoch 11/20\n",
      "534895/534895 [==============================] - 1s 1us/step - loss: 0.4358 - accuracy: 0.8406 - val_loss: 0.4351 - val_accuracy: 0.8409\n",
      "Epoch 12/20\n",
      "534895/534895 [==============================] - 1s 1us/step - loss: 0.4353 - accuracy: 0.8406 - val_loss: 0.4346 - val_accuracy: 0.8409\n",
      "Epoch 13/20\n",
      "534895/534895 [==============================] - 1s 1us/step - loss: 0.4347 - accuracy: 0.8406 - val_loss: 0.4339 - val_accuracy: 0.8409\n",
      "Epoch 14/20\n",
      "534895/534895 [==============================] - 1s 1us/step - loss: 0.4340 - accuracy: 0.8406 - val_loss: 0.4331 - val_accuracy: 0.8409\n",
      "Epoch 15/20\n",
      "534895/534895 [==============================] - 1s 1us/step - loss: 0.4331 - accuracy: 0.8406 - val_loss: 0.4322 - val_accuracy: 0.8409\n",
      "Epoch 16/20\n",
      "534895/534895 [==============================] - 1s 1us/step - loss: 0.4321 - accuracy: 0.8406 - val_loss: 0.4311 - val_accuracy: 0.8409\n",
      "Epoch 17/20\n",
      "534895/534895 [==============================] - 1s 1us/step - loss: 0.4309 - accuracy: 0.8406 - val_loss: 0.4297 - val_accuracy: 0.8409\n",
      "Epoch 18/20\n",
      "534895/534895 [==============================] - 1s 1us/step - loss: 0.4293 - accuracy: 0.8406 - val_loss: 0.4280 - val_accuracy: 0.8409\n",
      "Epoch 19/20\n",
      "534895/534895 [==============================] - 1s 1us/step - loss: 0.4274 - accuracy: 0.8406 - val_loss: 0.4258 - val_accuracy: 0.8409\n",
      "Epoch 20/20\n",
      "534895/534895 [==============================] - 1s 1us/step - loss: 0.4249 - accuracy: 0.8406 - val_loss: 0.4230 - val_accuracy: 0.8409\n"
     ]
    }
   ],
   "source": [
    "# Setup some training parameters\n",
    "batch_size = 10000\n",
    "epochs = 20\n",
    "\n",
    "input_shape = (X.shape[1],)\n",
    "n_layers = 4\n",
    "n_nodes = 50\n",
    "\n",
    "# Build the model\n",
    "model5 = build_DNN(input_shape, n_layers, n_nodes,learning_rate = 0.1)\n",
    "\n",
    "# Train the model, provide training data and validation data\n",
    "history5 = model5.fit(Xtrain,Ytrain,epochs = epochs,validation_data = (Xval,Yval),batch_size=batch_size,class_weight = cw)"
   ]
  },
  {
   "cell_type": "code",
   "execution_count": 51,
   "metadata": {},
   "outputs": [
    {
     "name": "stdout",
     "output_type": "stream",
     "text": [
      "114621/114621 [==============================] - 4s 37us/step\n",
      "Test loss: 0.4212\n",
      "Test accuracy: 0.8420\n"
     ]
    }
   ],
   "source": [
    "# Evaluate model on test data\n",
    "score = model5.evaluate(Xtest,Ytest)\n",
    "\n",
    "print('Test loss: %.4f' % score[0])\n",
    "print('Test accuracy: %.4f' % score[1])"
   ]
  },
  {
   "cell_type": "code",
   "execution_count": 52,
   "metadata": {},
   "outputs": [
    {
     "data": {
      "image/png": "[encoded data removed]",
      "text/plain": [
       "<Figure size 720x288 with 1 Axes>"
      ]
     },
     "metadata": {
      "needs_background": "light"
     },
     "output_type": "display_data"
    },
    {
     "data": {
      "image/png": "[encoded data removed]",
      "text/plain": [
       "<Figure size 720x288 with 1 Axes>"
      ]
     },
     "metadata": {
      "needs_background": "light"
     },
     "output_type": "display_data"
    }
   ],
   "source": [
    "plot_results(history5)"
   ]
  },
  {
   "cell_type": "markdown",
   "metadata": {},
   "source": [
    "# Part 16: Batch normalization\n",
    "\n",
    "Now add batch normalization after each dense layer. Remember to import BatchNormalization from keras.layers. \n",
    "\n",
    "See https://keras.io/layers/normalization/ for information about how to call the function.\n",
    "\n",
    "Question 18: Why is batch normalization important when training deep networks?"
   ]
  },
  {
   "cell_type": "markdown",
   "metadata": {},
   "source": [
    "### 2 layers, 20 nodes, class weights, batch normalization"
   ]
  },
  {
   "cell_type": "code",
   "execution_count": 53,
   "metadata": {
    "scrolled": true
   },
   "outputs": [
    {
     "name": "stdout",
     "output_type": "stream",
     "text": [
      "Train on 534895 samples, validate on 114621 samples\n",
      "Epoch 1/20\n",
      "534895/534895 [==============================] - 2s 4us/step - loss: 0.3120 - accuracy: 0.8947 - val_loss: 0.3990 - val_accuracy: 0.8409\n",
      "Epoch 2/20\n",
      "534895/534895 [==============================] - 1s 1us/step - loss: 0.1940 - accuracy: 0.9076 - val_loss: 0.4043 - val_accuracy: 0.8409\n",
      "Epoch 3/20\n",
      "534895/534895 [==============================] - 1s 1us/step - loss: 0.1779 - accuracy: 0.9097 - val_loss: 0.3877 - val_accuracy: 0.8409\n",
      "Epoch 4/20\n",
      "534895/534895 [==============================] - 1s 1us/step - loss: 0.1709 - accuracy: 0.9116 - val_loss: 0.3430 - val_accuracy: 0.8409\n",
      "Epoch 5/20\n",
      "534895/534895 [==============================] - 1s 1us/step - loss: 0.1666 - accuracy: 0.9132 - val_loss: 0.2872 - val_accuracy: 0.8408\n",
      "Epoch 6/20\n",
      "534895/534895 [==============================] - 1s 1us/step - loss: 0.1637 - accuracy: 0.9144 - val_loss: 0.2282 - val_accuracy: 0.8426\n",
      "Epoch 7/20\n",
      "534895/534895 [==============================] - 1s 1us/step - loss: 0.1616 - accuracy: 0.9152 - val_loss: 0.2032 - val_accuracy: 0.8540\n",
      "Epoch 8/20\n",
      "534895/534895 [==============================] - 1s 1us/step - loss: 0.1599 - accuracy: 0.9157 - val_loss: 0.1716 - val_accuracy: 0.8927\n",
      "Epoch 9/20\n",
      "534895/534895 [==============================] - 1s 1us/step - loss: 0.1585 - accuracy: 0.9162 - val_loss: 0.1643 - val_accuracy: 0.9073\n",
      "Epoch 10/20\n",
      "534895/534895 [==============================] - 1s 1us/step - loss: 0.1572 - accuracy: 0.9165 - val_loss: 0.1597 - val_accuracy: 0.9131\n",
      "Epoch 11/20\n",
      "534895/534895 [==============================] - 1s 1us/step - loss: 0.1561 - accuracy: 0.9170 - val_loss: 0.1568 - val_accuracy: 0.9177\n",
      "Epoch 12/20\n",
      "534895/534895 [==============================] - 1s 1us/step - loss: 0.1552 - accuracy: 0.9173 - val_loss: 0.1570 - val_accuracy: 0.9163\n",
      "Epoch 13/20\n",
      "534895/534895 [==============================] - 1s 1us/step - loss: 0.1542 - accuracy: 0.9177 - val_loss: 0.1560 - val_accuracy: 0.9169\n",
      "Epoch 14/20\n",
      "534895/534895 [==============================] - 1s 1us/step - loss: 0.1535 - accuracy: 0.9179 - val_loss: 0.1548 - val_accuracy: 0.9176\n",
      "Epoch 15/20\n",
      "534895/534895 [==============================] - 1s 1us/step - loss: 0.1529 - accuracy: 0.9181 - val_loss: 0.1527 - val_accuracy: 0.9185\n",
      "Epoch 16/20\n",
      "534895/534895 [==============================] - 1s 1us/step - loss: 0.1526 - accuracy: 0.9180 - val_loss: 0.1520 - val_accuracy: 0.9188\n",
      "Epoch 17/20\n",
      "534895/534895 [==============================] - 1s 1us/step - loss: 0.1518 - accuracy: 0.9186 - val_loss: 0.1562 - val_accuracy: 0.9114\n",
      "Epoch 18/20\n",
      "534895/534895 [==============================] - 1s 1us/step - loss: 0.1510 - accuracy: 0.9190 - val_loss: 0.1521 - val_accuracy: 0.9190\n",
      "Epoch 19/20\n",
      "534895/534895 [==============================] - 1s 1us/step - loss: 0.1504 - accuracy: 0.9193 - val_loss: 0.1504 - val_accuracy: 0.9202\n",
      "Epoch 20/20\n",
      "534895/534895 [==============================] - 1s 1us/step - loss: 0.1500 - accuracy: 0.9194 - val_loss: 0.1506 - val_accuracy: 0.9191\n"
     ]
    }
   ],
   "source": [
    "# Setup some training parameters\n",
    "batch_size = 10000\n",
    "epochs = 20\n",
    "\n",
    "input_shape = (X.shape[1],)\n",
    "n_layers = 2\n",
    "n_nodes = 20\n",
    "\n",
    "# Build the model\n",
    "model6 = build_DNN(input_shape, n_layers, n_nodes,learning_rate = 0.1,use_bn = True)\n",
    "\n",
    "# Train the model, provide training data and validation data\n",
    "history6 = model6.fit(Xtrain,Ytrain,epochs = epochs,validation_data = (Xval,Yval),batch_size=batch_size,class_weight = cw)"
   ]
  },
  {
   "cell_type": "code",
   "execution_count": 54,
   "metadata": {},
   "outputs": [
    {
     "name": "stdout",
     "output_type": "stream",
     "text": [
      "114621/114621 [==============================] - 5s 46us/step\n",
      "Test loss: 0.1491\n",
      "Test accuracy: 0.9193\n"
     ]
    }
   ],
   "source": [
    "# Evaluate model on test data\n",
    "score = model6.evaluate(Xtest,Ytest)\n",
    "\n",
    "print('Test loss: %.4f' % score[0])\n",
    "print('Test accuracy: %.4f' % score[1])"
   ]
  },
  {
   "cell_type": "code",
   "execution_count": 55,
   "metadata": {},
   "outputs": [
    {
     "data": {
      "image/png": "[encoded data removed]",
      "text/plain": [
       "<Figure size 720x288 with 1 Axes>"
      ]
     },
     "metadata": {
      "needs_background": "light"
     },
     "output_type": "display_data"
    },
    {
     "data": {
      "image/png": "[encoded data removed]",
      "text/plain": [
       "<Figure size 720x288 with 1 Axes>"
      ]
     },
     "metadata": {
      "needs_background": "light"
     },
     "output_type": "display_data"
    }
   ],
   "source": [
    "plot_results(history6)"
   ]
  },
  {
   "cell_type": "markdown",
   "metadata": {},
   "source": [
    "# Part 17: Activation function\n",
    "\n",
    "Try changing the activation function in each layer from sigmoid to ReLU, write down the test accuracy.\n",
    "\n",
    "Note: the last layer should still have a sigmoid activation function."
   ]
  },
  {
   "cell_type": "markdown",
   "metadata": {},
   "source": [
    "### 2 layers, 20 nodes, class weights, ReLU, no batch normalization"
   ]
  },
  {
   "cell_type": "code",
   "execution_count": 56,
   "metadata": {
    "scrolled": true
   },
   "outputs": [
    {
     "name": "stdout",
     "output_type": "stream",
     "text": [
      "Train on 534895 samples, validate on 114621 samples\n",
      "Epoch 1/20\n",
      "534895/534895 [==============================] - 1s 2us/step - loss: 1.9698 - accuracy: 0.0837 - val_loss: 2.4402 - val_accuracy: 0.0000e+00\n",
      "Epoch 2/20\n",
      "534895/534895 [==============================] - 1s 1us/step - loss: 2.4442 - accuracy: 0.0000e+00 - val_loss: 2.4402 - val_accuracy: 0.0000e+00\n",
      "Epoch 3/20\n",
      "534895/534895 [==============================] - 1s 1us/step - loss: 2.4442 - accuracy: 0.0000e+00 - val_loss: 2.4402 - val_accuracy: 0.0000e+00\n",
      "Epoch 4/20\n",
      "534895/534895 [==============================] - 1s 1us/step - loss: 2.4442 - accuracy: 0.0000e+00 - val_loss: 2.4402 - val_accuracy: 0.0000e+00\n",
      "Epoch 5/20\n",
      "534895/534895 [==============================] - 1s 1us/step - loss: 2.4442 - accuracy: 0.0000e+00 - val_loss: 2.4402 - val_accuracy: 0.0000e+00\n",
      "Epoch 6/20\n",
      "534895/534895 [==============================] - 1s 1us/step - loss: 2.4442 - accuracy: 0.0000e+00 - val_loss: 2.4402 - val_accuracy: 0.0000e+00\n",
      "Epoch 7/20\n",
      "534895/534895 [==============================] - 1s 1us/step - loss: 2.4442 - accuracy: 0.0000e+00 - val_loss: 2.4402 - val_accuracy: 0.0000e+00\n",
      "Epoch 8/20\n",
      "534895/534895 [==============================] - 1s 1us/step - loss: 2.4442 - accuracy: 0.0000e+00 - val_loss: 2.4402 - val_accuracy: 0.0000e+00\n",
      "Epoch 9/20\n",
      "534895/534895 [==============================] - 1s 1us/step - loss: 2.4442 - accuracy: 0.0000e+00 - val_loss: 2.4402 - val_accuracy: 0.0000e+00\n",
      "Epoch 10/20\n",
      "534895/534895 [==============================] - 1s 1us/step - loss: 2.4442 - accuracy: 0.0000e+00 - val_loss: 2.4402 - val_accuracy: 0.0000e+00\n",
      "Epoch 11/20\n",
      "534895/534895 [==============================] - 1s 1us/step - loss: 2.4442 - accuracy: 0.0000e+00 - val_loss: 2.4402 - val_accuracy: 0.0000e+00\n",
      "Epoch 12/20\n",
      "534895/534895 [==============================] - 1s 1us/step - loss: 2.4442 - accuracy: 0.0000e+00 - val_loss: 2.4402 - val_accuracy: 0.0000e+00\n",
      "Epoch 13/20\n",
      "534895/534895 [==============================] - 1s 1us/step - loss: 2.4442 - accuracy: 0.0000e+00 - val_loss: 2.4402 - val_accuracy: 0.0000e+00\n",
      "Epoch 14/20\n",
      "534895/534895 [==============================] - 1s 1us/step - loss: 2.4442 - accuracy: 0.0000e+00 - val_loss: 2.4402 - val_accuracy: 0.0000e+00\n",
      "Epoch 15/20\n",
      "534895/534895 [==============================] - 1s 1us/step - loss: 2.4442 - accuracy: 0.0000e+00 - val_loss: 2.4402 - val_accuracy: 0.0000e+00\n",
      "Epoch 16/20\n",
      "534895/534895 [==============================] - 1s 1us/step - loss: 2.4442 - accuracy: 0.0000e+00 - val_loss: 2.4402 - val_accuracy: 0.0000e+00\n",
      "Epoch 17/20\n",
      "534895/534895 [==============================] - 1s 1us/step - loss: 2.4442 - accuracy: 0.0000e+00 - val_loss: 2.4402 - val_accuracy: 0.0000e+00\n",
      "Epoch 18/20\n",
      "534895/534895 [==============================] - 1s 1us/step - loss: 2.4442 - accuracy: 0.0000e+00 - val_loss: 2.4402 - val_accuracy: 0.0000e+00\n",
      "Epoch 19/20\n",
      "534895/534895 [==============================] - 1s 1us/step - loss: 2.4442 - accuracy: 0.0000e+00 - val_loss: 2.4402 - val_accuracy: 0.0000e+00\n",
      "Epoch 20/20\n",
      "534895/534895 [==============================] - 1s 1us/step - loss: 2.4442 - accuracy: 0.0000e+00 - val_loss: 2.4402 - val_accuracy: 0.0000e+00\n"
     ]
    }
   ],
   "source": [
    "# Setup some training parameters\n",
    "batch_size = 10000\n",
    "epochs = 20\n",
    "\n",
    "input_shape = (X.shape[1],)\n",
    "n_layers = 2\n",
    "n_nodes = 20\n",
    "\n",
    "# Build the model\n",
    "model7 = build_DNN(input_shape, n_layers, n_nodes,learning_rate = 0.1,act_fun = \"relu\")\n",
    "\n",
    "# Train the model, provide training data and validation data\n",
    "history7 = model7.fit(Xtrain,Ytrain,epochs = epochs,validation_data = (Xval,Yval),batch_size=batch_size,class_weight = cw)"
   ]
  },
  {
   "cell_type": "code",
   "execution_count": 57,
   "metadata": {},
   "outputs": [
    {
     "name": "stdout",
     "output_type": "stream",
     "text": [
      "114621/114621 [==============================] - 4s 33us/step\n",
      "Test loss: 2.4233\n",
      "Test accuracy: 0.0000\n"
     ]
    }
   ],
   "source": [
    "# Evaluate model on test data\n",
    "score =  model7.evaluate(Xtest,Ytest)\n",
    "\n",
    "print('Test loss: %.4f' % score[0])\n",
    "print('Test accuracy: %.4f' % score[1])"
   ]
  },
  {
   "cell_type": "code",
   "execution_count": 58,
   "metadata": {},
   "outputs": [
    {
     "data": {
      "image/png": "[encoded data removed]",
      "text/plain": [
       "<Figure size 720x288 with 1 Axes>"
      ]
     },
     "metadata": {
      "needs_background": "light"
     },
     "output_type": "display_data"
    },
    {
     "data": {
      "image/png": "[encoded data removed]",
      "text/plain": [
       "<Figure size 720x288 with 1 Axes>"
      ]
     },
     "metadata": {
      "needs_background": "light"
     },
     "output_type": "display_data"
    }
   ],
   "source": [
    "plot_results(history7)"
   ]
  },
  {
   "cell_type": "markdown",
   "metadata": {},
   "source": [
    "# Part 18: Optimizer\n",
    "\n",
    "Try changing the optimizer from SGD to Adam (with learning rate 0.1 as before). Remember to import the Adam optimizer from keras.optimizers. \n",
    "\n",
    "https://keras.io/optimizers/\n"
   ]
  },
  {
   "cell_type": "markdown",
   "metadata": {},
   "source": [
    "### 2 layers, 20 nodes, class weights, Adam optimizer, no batch normalization, sigmoid activations"
   ]
  },
  {
   "cell_type": "code",
   "execution_count": 59,
   "metadata": {
    "scrolled": true
   },
   "outputs": [
    {
     "name": "stdout",
     "output_type": "stream",
     "text": [
      "Train on 534895 samples, validate on 114621 samples\n",
      "Epoch 1/20\n",
      "534895/534895 [==============================] - 1s 2us/step - loss: 0.1998 - accuracy: 0.8927 - val_loss: 0.1592 - val_accuracy: 0.9164\n",
      "Epoch 2/20\n",
      "534895/534895 [==============================] - 1s 1us/step - loss: 0.1559 - accuracy: 0.9175 - val_loss: 0.1533 - val_accuracy: 0.9187\n",
      "Epoch 3/20\n",
      "534895/534895 [==============================] - 1s 1us/step - loss: 0.1507 - accuracy: 0.9195 - val_loss: 0.1490 - val_accuracy: 0.9200\n",
      "Epoch 4/20\n",
      "534895/534895 [==============================] - 1s 1us/step - loss: 0.1445 - accuracy: 0.9213 - val_loss: 0.1421 - val_accuracy: 0.9249\n",
      "Epoch 5/20\n",
      "534895/534895 [==============================] - 1s 1us/step - loss: 0.1385 - accuracy: 0.9257 - val_loss: 0.1328 - val_accuracy: 0.9309\n",
      "Epoch 6/20\n",
      "534895/534895 [==============================] - 1s 1us/step - loss: 0.1320 - accuracy: 0.9301 - val_loss: 0.1270 - val_accuracy: 0.9333\n",
      "Epoch 7/20\n",
      "534895/534895 [==============================] - 1s 1us/step - loss: 0.1282 - accuracy: 0.9315 - val_loss: 0.1325 - val_accuracy: 0.9299\n",
      "Epoch 8/20\n",
      "534895/534895 [==============================] - 1s 1us/step - loss: 0.1252 - accuracy: 0.9331 - val_loss: 0.1241 - val_accuracy: 0.9341\n",
      "Epoch 9/20\n",
      "534895/534895 [==============================] - 1s 1us/step - loss: 0.1250 - accuracy: 0.9329 - val_loss: 0.1223 - val_accuracy: 0.9355\n",
      "Epoch 10/20\n",
      "534895/534895 [==============================] - 1s 1us/step - loss: 0.1219 - accuracy: 0.9341 - val_loss: 0.1203 - val_accuracy: 0.9355\n",
      "Epoch 11/20\n",
      "534895/534895 [==============================] - 1s 1us/step - loss: 0.1215 - accuracy: 0.9345 - val_loss: 0.1299 - val_accuracy: 0.9299\n",
      "Epoch 12/20\n",
      "534895/534895 [==============================] - 1s 1us/step - loss: 0.1203 - accuracy: 0.9344 - val_loss: 0.1196 - val_accuracy: 0.9346\n",
      "Epoch 13/20\n",
      "534895/534895 [==============================] - 1s 1us/step - loss: 0.1192 - accuracy: 0.9347 - val_loss: 0.1193 - val_accuracy: 0.9357\n",
      "Epoch 14/20\n",
      "534895/534895 [==============================] - 1s 1us/step - loss: 0.1196 - accuracy: 0.9347 - val_loss: 0.1189 - val_accuracy: 0.9357\n",
      "Epoch 15/20\n",
      "534895/534895 [==============================] - 1s 1us/step - loss: 0.1182 - accuracy: 0.9358 - val_loss: 0.1171 - val_accuracy: 0.9365\n",
      "Epoch 16/20\n",
      "534895/534895 [==============================] - 1s 1us/step - loss: 0.1183 - accuracy: 0.9355 - val_loss: 0.1177 - val_accuracy: 0.9358\n",
      "Epoch 17/20\n",
      "534895/534895 [==============================] - 1s 1us/step - loss: 0.1174 - accuracy: 0.9356 - val_loss: 0.1181 - val_accuracy: 0.9357\n",
      "Epoch 18/20\n",
      "534895/534895 [==============================] - 1s 1us/step - loss: 0.1174 - accuracy: 0.9354 - val_loss: 0.1171 - val_accuracy: 0.9369\n",
      "Epoch 19/20\n",
      "534895/534895 [==============================] - 1s 1us/step - loss: 0.1186 - accuracy: 0.9353 - val_loss: 0.1188 - val_accuracy: 0.9344\n",
      "Epoch 20/20\n",
      "534895/534895 [==============================] - 1s 1us/step - loss: 0.1170 - accuracy: 0.9355 - val_loss: 0.1177 - val_accuracy: 0.9370\n"
     ]
    }
   ],
   "source": [
    "# Setup some training parameters\n",
    "batch_size = 10000\n",
    "epochs = 20\n",
    "\n",
    "input_shape = (X.shape[1],)\n",
    "n_layers = 2\n",
    "n_nodes = 20\n",
    "\n",
    "# Build the model\n",
    "model8 = build_DNN(input_shape, n_layers, n_nodes,learning_rate = 0.1,optimizer = \"Adam\")\n",
    "\n",
    "# Train the model, provide training data and validation data\n",
    "history8 = model8.fit(Xtrain,Ytrain,epochs = epochs,validation_data = (Xval,Yval),batch_size=batch_size,class_weight = cw)"
   ]
  },
  {
   "cell_type": "code",
   "execution_count": 60,
   "metadata": {},
   "outputs": [
    {
     "name": "stdout",
     "output_type": "stream",
     "text": [
      "114621/114621 [==============================] - 4s 37us/step\n",
      "Test loss: 0.1167\n",
      "Test accuracy: 0.9369\n"
     ]
    }
   ],
   "source": [
    "# Evaluate model on test data\n",
    "score = model8.evaluate(Xtest,Ytest)\n",
    "\n",
    "print('Test loss: %.4f' % score[0])\n",
    "print('Test accuracy: %.4f' % score[1])"
   ]
  },
  {
   "cell_type": "code",
   "execution_count": 61,
   "metadata": {},
   "outputs": [
    {
     "data": {
      "image/png": "[encoded data removed]",
      "text/plain": [
       "<Figure size 720x288 with 1 Axes>"
      ]
     },
     "metadata": {
      "needs_background": "light"
     },
     "output_type": "display_data"
    },
    {
     "data": {
      "image/png": "[encoded data removed]",
      "text/plain": [
       "<Figure size 720x288 with 1 Axes>"
      ]
     },
     "metadata": {
      "needs_background": "light"
     },
     "output_type": "display_data"
    }
   ],
   "source": [
    "plot_results(history8)"
   ]
  },
  {
   "cell_type": "markdown",
   "metadata": {},
   "source": [
    "# Part 19: Dropout regularization\n",
    "\n",
    "Dropout is a type of regularization that can improve accuracy for validation and test data. \n",
    "\n",
    "Add a Dropout layer after each Dense layer (but not after the final dense layer), with a dropout probability of 50%. Remember to first import the Dropout layer from keras.layers\n",
    "\n",
    "See https://keras.io/layers/core/ for how the Dropout layer works.\n",
    "\n",
    "---\n",
    "\n",
    "Question 19: How does the validation accuracy change when adding dropout?\n",
    "\n",
    "Question 20: How does the test accuracy change when adding dropout?"
   ]
  },
  {
   "cell_type": "markdown",
   "metadata": {},
   "source": [
    "### 2 layers, 20 nodes, class weights, dropout, SGD optimizer, no batch normalization, sigmoid activations"
   ]
  },
  {
   "cell_type": "code",
   "execution_count": 62,
   "metadata": {
    "scrolled": true
   },
   "outputs": [
    {
     "name": "stdout",
     "output_type": "stream",
     "text": [
      "Train on 534895 samples, validate on 114621 samples\n",
      "Epoch 1/20\n",
      "534895/534895 [==============================] - 1s 2us/step - loss: 0.4847 - accuracy: 0.8096 - val_loss: 0.4136 - val_accuracy: 0.8409\n",
      "Epoch 2/20\n",
      "534895/534895 [==============================] - 1s 1us/step - loss: 0.4380 - accuracy: 0.8387 - val_loss: 0.3943 - val_accuracy: 0.8409\n",
      "Epoch 3/20\n",
      "534895/534895 [==============================] - 1s 1us/step - loss: 0.4162 - accuracy: 0.8399 - val_loss: 0.3729 - val_accuracy: 0.8409\n",
      "Epoch 4/20\n",
      "534895/534895 [==============================] - 1s 1us/step - loss: 0.3955 - accuracy: 0.8404 - val_loss: 0.3472 - val_accuracy: 0.8409\n",
      "Epoch 5/20\n",
      "534895/534895 [==============================] - 1s 1us/step - loss: 0.3736 - accuracy: 0.8416 - val_loss: 0.3188 - val_accuracy: 0.8409\n",
      "Epoch 6/20\n",
      "534895/534895 [==============================] - 1s 1us/step - loss: 0.3504 - accuracy: 0.8441 - val_loss: 0.2901 - val_accuracy: 0.8409\n",
      "Epoch 7/20\n",
      "534895/534895 [==============================] - 1s 1us/step - loss: 0.3290 - accuracy: 0.8478 - val_loss: 0.2646 - val_accuracy: 0.8409\n",
      "Epoch 8/20\n",
      "534895/534895 [==============================] - 1s 1us/step - loss: 0.3121 - accuracy: 0.8508 - val_loss: 0.2443 - val_accuracy: 0.8409\n",
      "Epoch 9/20\n",
      "534895/534895 [==============================] - 1s 1us/step - loss: 0.2969 - accuracy: 0.8544 - val_loss: 0.2294 - val_accuracy: 0.8409\n",
      "Epoch 10/20\n",
      "534895/534895 [==============================] - 1s 1us/step - loss: 0.2853 - accuracy: 0.8568 - val_loss: 0.2185 - val_accuracy: 0.8446\n",
      "Epoch 11/20\n",
      "534895/534895 [==============================] - 1s 1us/step - loss: 0.2762 - accuracy: 0.8591 - val_loss: 0.2105 - val_accuracy: 0.8593\n",
      "Epoch 12/20\n",
      "534895/534895 [==============================] - 1s 1us/step - loss: 0.2678 - accuracy: 0.8610 - val_loss: 0.2048 - val_accuracy: 0.8733\n",
      "Epoch 13/20\n",
      "534895/534895 [==============================] - 1s 1us/step - loss: 0.2625 - accuracy: 0.8617 - val_loss: 0.2006 - val_accuracy: 0.8814\n",
      "Epoch 14/20\n",
      "534895/534895 [==============================] - 1s 1us/step - loss: 0.2575 - accuracy: 0.8629 - val_loss: 0.1974 - val_accuracy: 0.8952\n",
      "Epoch 15/20\n",
      "534895/534895 [==============================] - 1s 1us/step - loss: 0.2525 - accuracy: 0.8643 - val_loss: 0.1949 - val_accuracy: 0.9025\n",
      "Epoch 16/20\n",
      "534895/534895 [==============================] - 1s 1us/step - loss: 0.2485 - accuracy: 0.8654 - val_loss: 0.1930 - val_accuracy: 0.9024\n",
      "Epoch 17/20\n",
      "534895/534895 [==============================] - 1s 1us/step - loss: 0.2451 - accuracy: 0.8666 - val_loss: 0.1913 - val_accuracy: 0.9019\n",
      "Epoch 18/20\n",
      "534895/534895 [==============================] - 1s 1us/step - loss: 0.2413 - accuracy: 0.8672 - val_loss: 0.1900 - val_accuracy: 0.9019\n",
      "Epoch 19/20\n",
      "534895/534895 [==============================] - 1s 1us/step - loss: 0.2384 - accuracy: 0.8680 - val_loss: 0.1888 - val_accuracy: 0.9017\n",
      "Epoch 20/20\n",
      "534895/534895 [==============================] - 1s 1us/step - loss: 0.2362 - accuracy: 0.8690 - val_loss: 0.1879 - val_accuracy: 0.9014\n"
     ]
    }
   ],
   "source": [
    "# Setup some training parameters\n",
    "batch_size = 10000\n",
    "epochs = 20\n",
    "\n",
    "input_shape = (X.shape[1],)\n",
    "n_layers = 2\n",
    "n_nodes = 20\n",
    "\n",
    "# Build the model\n",
    "model9 = build_DNN(input_shape, n_layers, n_nodes,learning_rate = 0.1,use_dropout = True)\n",
    "\n",
    "# Train the model, provide training data and validation data\n",
    "history9 = model9.fit(Xtrain,Ytrain,epochs = epochs,validation_data = (Xval,Yval),batch_size=batch_size,class_weight = cw)"
   ]
  },
  {
   "cell_type": "code",
   "execution_count": 63,
   "metadata": {},
   "outputs": [
    {
     "name": "stdout",
     "output_type": "stream",
     "text": [
      "114621/114621 [==============================] - 4s 34us/step\n",
      "Test loss: 0.1167\n",
      "Test accuracy: 0.9369\n"
     ]
    }
   ],
   "source": [
    "# Evaluate model on test data\n",
    "score = model8.evaluate(Xtest,Ytest)\n",
    "\n",
    "print('Test loss: %.4f' % score[0])\n",
    "print('Test accuracy: %.4f' % score[1])"
   ]
  },
  {
   "cell_type": "code",
   "execution_count": 64,
   "metadata": {},
   "outputs": [
    {
     "data": {
      "image/png": "[encoded data removed]",
      "text/plain": [
       "<Figure size 720x288 with 1 Axes>"
      ]
     },
     "metadata": {
      "needs_background": "light"
     },
     "output_type": "display_data"
    },
    {
     "data": {
      "image/png": "[encoded data removed]",
      "text/plain": [
       "<Figure size 720x288 with 1 Axes>"
      ]
     },
     "metadata": {
      "needs_background": "light"
     },
     "output_type": "display_data"
    }
   ],
   "source": [
    "plot_results(history9)"
   ]
  },
  {
   "cell_type": "markdown",
   "metadata": {},
   "source": [
    "# Part 20: Improving performance\n",
    "\n",
    "Spend some time (30 - 90 minutes) playing with the network architecture (number of layers, number of nodes per layer, activation function) and other hyper parameters (optimizer, learning rate, batch size, number of epochs, degree of regularization). For example, try a much deeper network. How much does the training time increase for a network with 10 layers?\n",
    "\n",
    "Question 21: How high classification accuracy can you achieve for the test data? What is your best configuration?"
   ]
  },
  {
   "cell_type": "code",
   "execution_count": 65,
   "metadata": {
    "scrolled": true
   },
   "outputs": [
    {
     "name": "stdout",
     "output_type": "stream",
     "text": [
      "Train on 534895 samples, validate on 114621 samples\n",
      "Epoch 1/23\n",
      "534895/534895 [==============================] - 8s 15us/step - loss: 0.1573 - accuracy: 0.9146 - val_loss: 0.1468 - val_accuracy: 0.9209\n",
      "Epoch 2/23\n",
      "534895/534895 [==============================] - 7s 14us/step - loss: 0.1383 - accuracy: 0.9231 - val_loss: 0.1393 - val_accuracy: 0.9275\n",
      "Epoch 3/23\n",
      "534895/534895 [==============================] - 7s 14us/step - loss: 0.1249 - accuracy: 0.9306 - val_loss: 0.1204 - val_accuracy: 0.9368\n",
      "Epoch 4/23\n",
      "534895/534895 [==============================] - 7s 14us/step - loss: 0.1211 - accuracy: 0.9325 - val_loss: 0.1190 - val_accuracy: 0.9353\n",
      "Epoch 5/23\n",
      "534895/534895 [==============================] - 7s 14us/step - loss: 0.1193 - accuracy: 0.9339 - val_loss: 0.1192 - val_accuracy: 0.9349\n",
      "Epoch 6/23\n",
      "534895/534895 [==============================] - 8s 14us/step - loss: 0.1172 - accuracy: 0.9346 - val_loss: 0.1136 - val_accuracy: 0.9365\n",
      "Epoch 7/23\n",
      "534895/534895 [==============================] - 7s 14us/step - loss: 0.1172 - accuracy: 0.9345 - val_loss: 0.1254 - val_accuracy: 0.9322\n",
      "Epoch 8/23\n",
      "534895/534895 [==============================] - 7s 14us/step - loss: 0.1157 - accuracy: 0.9358 - val_loss: 0.1171 - val_accuracy: 0.9366\n",
      "Epoch 9/23\n",
      "534895/534895 [==============================] - 7s 14us/step - loss: 0.1158 - accuracy: 0.9356 - val_loss: 0.1209 - val_accuracy: 0.9356\n",
      "Epoch 10/23\n",
      "534895/534895 [==============================] - 8s 14us/step - loss: 0.1136 - accuracy: 0.9377 - val_loss: 0.1153 - val_accuracy: 0.9378\n",
      "Epoch 11/23\n",
      "534895/534895 [==============================] - 7s 14us/step - loss: 0.1128 - accuracy: 0.9386 - val_loss: 0.1173 - val_accuracy: 0.9380\n",
      "Epoch 12/23\n",
      "534895/534895 [==============================] - 7s 14us/step - loss: 0.1103 - accuracy: 0.9405 - val_loss: 0.1714 - val_accuracy: 0.9307\n",
      "Epoch 13/23\n",
      "534895/534895 [==============================] - 7s 14us/step - loss: 0.1099 - accuracy: 0.9413 - val_loss: 0.1722 - val_accuracy: 0.9313\n",
      "Epoch 14/23\n",
      "534895/534895 [==============================] - 7s 14us/step - loss: 0.1080 - accuracy: 0.9425 - val_loss: 0.1337 - val_accuracy: 0.9361\n",
      "Epoch 15/23\n",
      "534895/534895 [==============================] - 8s 14us/step - loss: 0.1052 - accuracy: 0.9444 - val_loss: 0.1100 - val_accuracy: 0.9404\n",
      "Epoch 16/23\n",
      "534895/534895 [==============================] - 8s 14us/step - loss: 0.1052 - accuracy: 0.9449 - val_loss: 0.1235 - val_accuracy: 0.9404\n",
      "Epoch 17/23\n",
      "534895/534895 [==============================] - 7s 14us/step - loss: 0.1042 - accuracy: 0.9449 - val_loss: 0.1169 - val_accuracy: 0.9391\n",
      "Epoch 18/23\n",
      "534895/534895 [==============================] - 7s 14us/step - loss: 0.1033 - accuracy: 0.9456 - val_loss: 0.3069 - val_accuracy: 0.9279\n",
      "Epoch 19/23\n",
      "534895/534895 [==============================] - 7s 14us/step - loss: 0.1038 - accuracy: 0.9456 - val_loss: 0.1079 - val_accuracy: 0.9423\n",
      "Epoch 20/23\n",
      "534895/534895 [==============================] - 7s 14us/step - loss: 0.1022 - accuracy: 0.9463 - val_loss: 0.2308 - val_accuracy: 0.9299\n",
      "Epoch 21/23\n",
      "534895/534895 [==============================] - 7s 14us/step - loss: 0.1031 - accuracy: 0.9456 - val_loss: 0.1309 - val_accuracy: 0.9365\n",
      "Epoch 22/23\n",
      "534895/534895 [==============================] - 7s 14us/step - loss: 0.1098 - accuracy: 0.9395 - val_loss: 0.1113 - val_accuracy: 0.9387\n",
      "Epoch 23/23\n",
      "534895/534895 [==============================] - 7s 14us/step - loss: 0.1095 - accuracy: 0.9395 - val_loss: 0.1106 - val_accuracy: 0.9404\n"
     ]
    }
   ],
   "source": [
    "# Setup some training parameters\n",
    "batch_size = 500\n",
    "epochs = 23\n",
    "\n",
    "input_shape = (X.shape[1],)\n",
    "n_layers = 3\n",
    "n_nodes = 100\n",
    "\n",
    "# Build the model\n",
    "model10 = build_DNN(input_shape, n_layers, n_nodes, learning_rate = 0.01, use_bn = True, optimizer = \"Adam\")\n",
    "\n",
    "# Train the model, provide training data and validation data\n",
    "history10 = model10.fit(Xtrain, Ytrain, epochs = epochs, validation_data = (Xval,Yval), batch_size = batch_size, class_weight = cw)"
   ]
  },
  {
   "cell_type": "code",
   "execution_count": 66,
   "metadata": {},
   "outputs": [
    {
     "name": "stdout",
     "output_type": "stream",
     "text": [
      "114621/114621 [==============================] - 6s 55us/step\n",
      "Test loss: 0.1099\n",
      "Test accuracy: 0.9402\n"
     ]
    }
   ],
   "source": [
    "# Evaluate DNN on test data\n",
    "score = model10.evaluate(Xtest,Ytest)\n",
    "\n",
    "print('Test loss: %.4f' % score[0])\n",
    "print('Test accuracy: %.4f' % score[1])"
   ]
  },
  {
   "cell_type": "markdown",
   "metadata": {},
   "source": [
    "# Part 21: Dropout uncertainty\n",
    "\n",
    "Dropout can also be used during testing, to obtain an estimate of the model uncertainty. Since dropout will randomly remove connections, the network will produce different results every time the same (test) data is put into the network. This technique is called Monte Carlo dropout. For more information, see this paper http://proceedings.mlr.press/v48/gal16.pdf\n",
    "\n",
    "To achieve this, we need to redefine the Keras Dropout call by running the cell below, and use 'myDropout' in each call to Dropout, in the cell that defines the DNN.\n",
    "\n",
    "Run the same test data through the trained network 100 times, with dropout turned on. \n",
    "\n",
    "Question 22: What is the mean and the standard deviation of the test accuracy?"
   ]
  },
  {
   "cell_type": "code",
   "execution_count": 67,
   "metadata": {},
   "outputs": [],
   "source": [
    "import keras\n",
    "import keras.backend as K\n",
    "class myDropout(keras.layers.Dropout):\n",
    "    \"\"\"Applies Dropout to the input.\n",
    "    Dropout consists in randomly setting\n",
    "    a fraction `rate` of input units to 0 at each update during training time,\n",
    "    which helps prevent overfitting.\n",
    "    # Arguments\n",
    "        rate: float between 0 and 1. Fraction of the input units to drop.\n",
    "        noise_shape: 1D integer tensor representing the shape of the\n",
    "            binary dropout mask that will be multiplied with the input.\n",
    "            For instance, if your inputs have shape\n",
    "            `(batch_size, timesteps, features)` and\n",
    "            you want the dropout mask to be the same for all timesteps,\n",
    "            you can use `noise_shape=(batch_size, 1, features)`.\n",
    "        seed: A Python integer to use as random seed.\n",
    "    # References\n",
    "        - [Dropout: A Simple Way to Prevent Neural Networks from Overfitting](\n",
    "           http://www.jmlr.org/papers/volume15/srivastava14a/srivastava14a.pdf)\n",
    "    \"\"\"\n",
    "    def __init__(self, rate, training=True, noise_shape=None, seed=None, **kwargs):\n",
    "        super(myDropout, self).__init__(rate, noise_shape=None, seed=None,**kwargs)\n",
    "        self.training = training\n",
    "\n",
    "        \n",
    "    def call(self, inputs, training=None):\n",
    "        if 0. < self.rate < 1.:\n",
    "            noise_shape = self._get_noise_shape(inputs)\n",
    "\n",
    "            def dropped_inputs():\n",
    "                return K.dropout(inputs, self.rate, noise_shape,\n",
    "                                 seed=self.seed)\n",
    "            if not training: \n",
    "                return K.in_train_phase(dropped_inputs, inputs, training=self.training)\n",
    "            return K.in_train_phase(dropped_inputs, inputs, training=training)\n",
    "        return inputs"
   ]
  },
  {
   "cell_type": "markdown",
   "metadata": {},
   "source": [
    "### Your best config, custom dropout"
   ]
  },
  {
   "cell_type": "code",
   "execution_count": 68,
   "metadata": {
    "scrolled": true
   },
   "outputs": [
    {
     "name": "stdout",
     "output_type": "stream",
     "text": [
      "Train on 534895 samples, validate on 114621 samples\n",
      "Epoch 1/23\n",
      "534895/534895 [==============================] - 9s 16us/step - loss: 0.1820 - accuracy: 0.9054 - val_loss: 0.1618 - val_accuracy: 0.9152\n",
      "Epoch 2/23\n",
      "534895/534895 [==============================] - 8s 14us/step - loss: 0.1648 - accuracy: 0.9119 - val_loss: 0.1609 - val_accuracy: 0.9160\n",
      "Epoch 3/23\n",
      "534895/534895 [==============================] - 8s 15us/step - loss: 0.1641 - accuracy: 0.9131 - val_loss: 0.1629 - val_accuracy: 0.9157\n",
      "Epoch 4/23\n",
      "534895/534895 [==============================] - 8s 15us/step - loss: 0.1624 - accuracy: 0.9145 - val_loss: 0.1599 - val_accuracy: 0.9155\n",
      "Epoch 5/23\n",
      "534895/534895 [==============================] - 8s 15us/step - loss: 0.1610 - accuracy: 0.9152 - val_loss: 0.1592 - val_accuracy: 0.9157\n",
      "Epoch 6/23\n",
      "534895/534895 [==============================] - 8s 15us/step - loss: 0.1611 - accuracy: 0.9150 - val_loss: 0.1583 - val_accuracy: 0.9162\n",
      "Epoch 7/23\n",
      "534895/534895 [==============================] - 8s 15us/step - loss: 0.1606 - accuracy: 0.9153 - val_loss: 0.1589 - val_accuracy: 0.9160\n",
      "Epoch 8/23\n",
      "534895/534895 [==============================] - 8s 15us/step - loss: 0.1603 - accuracy: 0.9155 - val_loss: 0.1588 - val_accuracy: 0.9163\n",
      "Epoch 9/23\n",
      "534895/534895 [==============================] - 8s 15us/step - loss: 0.1605 - accuracy: 0.9156 - val_loss: 0.1584 - val_accuracy: 0.9162\n",
      "Epoch 10/23\n",
      "534895/534895 [==============================] - 8s 15us/step - loss: 0.1598 - accuracy: 0.9161 - val_loss: 0.1588 - val_accuracy: 0.9167\n",
      "Epoch 11/23\n",
      "534895/534895 [==============================] - 8s 15us/step - loss: 0.1595 - accuracy: 0.9164 - val_loss: 0.1587 - val_accuracy: 0.9170\n",
      "Epoch 12/23\n",
      "534895/534895 [==============================] - 8s 15us/step - loss: 0.1594 - accuracy: 0.9164 - val_loss: 0.1580 - val_accuracy: 0.9171\n",
      "Epoch 13/23\n",
      "534895/534895 [==============================] - 8s 15us/step - loss: 0.1593 - accuracy: 0.9163 - val_loss: 0.1577 - val_accuracy: 0.9164\n",
      "Epoch 14/23\n",
      "534895/534895 [==============================] - 8s 15us/step - loss: 0.1596 - accuracy: 0.9164 - val_loss: 0.1577 - val_accuracy: 0.9174\n",
      "Epoch 15/23\n",
      "534895/534895 [==============================] - 8s 15us/step - loss: 0.1593 - accuracy: 0.9165 - val_loss: 0.1576 - val_accuracy: 0.9173\n",
      "Epoch 16/23\n",
      "534895/534895 [==============================] - 8s 15us/step - loss: 0.1594 - accuracy: 0.9168 - val_loss: 0.1596 - val_accuracy: 0.9169\n",
      "Epoch 17/23\n",
      "534895/534895 [==============================] - 8s 15us/step - loss: 0.1592 - accuracy: 0.9170 - val_loss: 0.1570 - val_accuracy: 0.9181\n",
      "Epoch 18/23\n",
      "534895/534895 [==============================] - 8s 15us/step - loss: 0.1591 - accuracy: 0.9168 - val_loss: 0.1584 - val_accuracy: 0.9175\n",
      "Epoch 19/23\n",
      "534895/534895 [==============================] - 8s 15us/step - loss: 0.1586 - accuracy: 0.9173 - val_loss: 0.1574 - val_accuracy: 0.9181\n",
      "Epoch 20/23\n",
      "534895/534895 [==============================] - 8s 15us/step - loss: 0.1590 - accuracy: 0.9173 - val_loss: 0.1571 - val_accuracy: 0.9177\n",
      "Epoch 21/23\n",
      "534895/534895 [==============================] - 8s 15us/step - loss: 0.1589 - accuracy: 0.9167 - val_loss: 0.1572 - val_accuracy: 0.9176\n",
      "Epoch 22/23\n",
      "534895/534895 [==============================] - 8s 15us/step - loss: 0.1587 - accuracy: 0.9171 - val_loss: 0.1576 - val_accuracy: 0.9181\n",
      "Epoch 23/23\n",
      "534895/534895 [==============================] - 8s 15us/step - loss: 0.1585 - accuracy: 0.9174 - val_loss: 0.1577 - val_accuracy: 0.9173\n"
     ]
    }
   ],
   "source": [
    "# Setup some training parameters\n",
    "batch_size = 500\n",
    "epochs = 23\n",
    "\n",
    "input_shape = (X.shape[1],)\n",
    "n_layers = 3\n",
    "n_nodes = 100\n",
    "\n",
    "# Build the model\n",
    "model11 = build_DNN(input_shape, n_layers, n_nodes, learning_rate = 0.01, use_bn = True, optimizer = \"Adam\",use_custom_dropout = True)\n",
    "\n",
    "# Train the model, provide training data and validation data\n",
    "history11 = model11.fit(Xtrain, Ytrain, epochs = epochs, validation_data = (Xval,Yval), batch_size = batch_size, class_weight = cw)"
   ]
  },
  {
   "cell_type": "code",
   "execution_count": 69,
   "metadata": {},
   "outputs": [
    {
     "name": "stdout",
     "output_type": "stream",
     "text": [
      "114621/114621 [==============================] - 7s 58us/step\n",
      "Test accuracy: 0.9172\n"
     ]
    }
   ],
   "source": [
    "# Run this cell a few times to evalute the model on test data, \n",
    "# if you get slightly different test accuracy every time, Dropout during testing is working\n",
    "#use_custom_dropout\n",
    "# Evaluate model on test data\n",
    "score = model11.evaluate(Xtest,Ytest)\n",
    "                       \n",
    "print('Test accuracy: %.4f' % score[1])"
   ]
  },
  {
   "cell_type": "code",
   "execution_count": 71,
   "metadata": {},
   "outputs": [
    {
     "name": "stdout",
     "output_type": "stream",
     "text": [
      "mean : 0.917258358001709\n",
      "STD : 0.00013499113331245783\n"
     ]
    }
   ],
   "source": [
    "# Run the testing 100 times, and save the accuracies in an array\n",
    "accuracy_array = np.empty(100)\n",
    "for i in range(100):\n",
    "    score = model11.evaluate(Xtest,Ytest,verbose = 0)\n",
    "    accuracy_array[i] = score[1]\n",
    "    \n",
    "    \n",
    "# Calculate and print mean and std of accuracies\n",
    "\n",
    "print(\"mean : {}\".format (np.mean(accuracy_array)))\n",
    "print(\"STD : {}\".format (np.std(accuracy_array)))"
   ]
  },
  {
   "cell_type": "markdown",
   "metadata": {},
   "source": [
    "# Part 22: Cross validation uncertainty\n",
    "\n",
    "Cross validation (CV) is often used to evaluate a model, by training and testing using different subsets of the data it is possible to get the uncertainty as the standard deviation over folds. We here use a help function from scikit-learn to setup the CV, see https://scikit-learn.org/stable/modules/generated/sklearn.model_selection.StratifiedKFold.html . Use 10 folds with shuffling, random state 1234. \n",
    "\n",
    "Note: We here assume that you have found the best hyper parameters, so here the data are only split into training and testing, no validation.\n",
    "\n",
    "---\n",
    "\n",
    "Question 23: What is the mean and the standard deviation of the test accuracy?\n",
    "\n",
    "Question 24: What is the main advantage of dropout compared to CV for estimating test uncertainty?"
   ]
  },
  {
   "cell_type": "code",
   "execution_count": 72,
   "metadata": {},
   "outputs": [
    {
     "name": "stdout",
     "output_type": "stream",
     "text": [
      "K : 1\n",
      "K : 2\n",
      "K : 3\n",
      "K : 4\n",
      "K : 5\n",
      "K : 6\n",
      "K : 7\n",
      "K : 8\n",
      "K : 9\n",
      "K : 10\n"
     ]
    }
   ],
   "source": [
    "from sklearn.model_selection import StratifiedKFold\n",
    "\n",
    "batch_size = 500\n",
    "epochs = 23\n",
    "\n",
    "input_shape = (X.shape[1],)\n",
    "n_layers = 3\n",
    "n_nodes = 100\n",
    "accuracy_array1 = np.empty(10)\n",
    "# Define 10-fold cross validation\n",
    "KForlds = StratifiedKFold(10,True,1234)\n",
    "index = 0\n",
    "# Loop over cross validation folds\n",
    "for train_index, test_index in KForlds.split(X, Y):\n",
    "    print(\"K : {}\".format (index + 1))\n",
    "    newXtrain = X[train_index,:]\n",
    "    newYtrain = Y[train_index]\n",
    "        \n",
    "    newXtest = X[test_index,:]\n",
    "    newYtest = Y[test_index]\n",
    "    \n",
    "    # Calculate class weights for current split\n",
    "    cw = class_weight.compute_class_weight(\"balanced\", np.unique(newYtrain), newYtrain)\n",
    "    \n",
    "    # Rebuild the DNN model, to not continue training on the previously trained model\n",
    "    model = build_DNN(input_shape, n_layers, n_nodes, learning_rate = 0.01, use_bn = True, optimizer = \"Adam\")\n",
    "       \n",
    "    # Fit the model with training set and class weights for this fold\n",
    "    history11 = model.fit(newXtrain, newYtrain, epochs = epochs, batch_size = batch_size, class_weight = cw,verbose = 0)\n",
    "    \n",
    "    # Evaluate the model using the test set for this fold\n",
    "    score = model.evaluate(Xtest,Ytest,verbose = 0)\n",
    "    \n",
    "    # Save the test accuracy in an array\n",
    "    accuracy_array1[index] = score[1]\n",
    "    \n",
    "    index = index + 1\n",
    "\n",
    "\n",
    "# Calculate and print mean and std of accuracies\n",
    "\n"
   ]
  },
  {
   "cell_type": "code",
   "execution_count": 73,
   "metadata": {},
   "outputs": [
    {
     "name": "stdout",
     "output_type": "stream",
     "text": [
      "mean : 0.917258358001709\n",
      "STD : 0.00013499113331245783\n"
     ]
    }
   ],
   "source": [
    "# Calculate and print mean and std of accuracies\n",
    "print(\"mean : {}\".format (np.mean(accuracy_array1)))\n",
    "print(\"STD : {}\".format (np.std(accuracy_array1)))\n"
   ]
  },
  {
   "cell_type": "markdown",
   "metadata": {},
   "source": [
    "# Part 23: DNN regression\n",
    "\n",
    "A similar DNN can be used for regression, instead of classification.\n",
    "\n",
    "Question 25: How would you change the DNN in order to use it for regression instead?"
   ]
  },
  {
   "cell_type": "markdown",
   "metadata": {},
   "source": [
    "## Report\n",
    "\n",
    "Send in this jupyter notebook, with answers to all questions."
   ]
  }
 ],
 "metadata": {
  "kernelspec": {
   "display_name": "Python 3.5",
   "language": "python",
   "name": "python3"
  },
  "language_info": {
   "codemirror_mode": {
    "name": "ipython",
    "version": 3
   },
   "file_extension": ".py",
   "mimetype": "text/x-python",
   "name": "python",
   "nbconvert_exporter": "python",
   "pygments_lexer": "ipython3",
   "version": "3.5.6"
  }
 },
 "nbformat": 4,
 "nbformat_minor": 4
}
